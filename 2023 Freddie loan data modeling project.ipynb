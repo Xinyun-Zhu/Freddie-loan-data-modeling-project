{
 "cells": [
  {
   "cell_type": "code",
   "execution_count": 1,
   "id": "2e2ef198-e40f-402c-8936-acc93332dddd",
   "metadata": {},
   "outputs": [],
   "source": [
    "import pandas as pd\n",
    "import seaborn as sns\n",
    "import numpy as np\n",
    "import matplotlib.pyplot as plt\n",
    "%matplotlib inline\n",
    "from sklearn.datasets import make_classification\n",
    "from sklearn.model_selection import cross_val_score\n",
    "from sklearn.model_selection import RepeatedStratifiedKFold\n",
    "from sklearn.linear_model import LogisticRegression\n",
    "from imblearn.pipeline import Pipeline\n",
    "from imblearn.over_sampling import SMOTE\n",
    "from imblearn.under_sampling import RandomUnderSampler\n",
    "from statsmodels.stats.outliers_influence import variance_inflation_factor\n",
    "#!pip3 install imblearn\n",
    "#!pip3 install statsmodels"
   ]
  },
  {
   "cell_type": "markdown",
   "id": "d35da727-a5b9-47b7-a7be-9d66553ed22d",
   "metadata": {},
   "source": [
    "In this project we will build machine learning models to predict delinquency rate. It can help a bank or an investor to approve or decline a loan application, to frame a better pricing strategy (loans with higher probability of delinquency should be charged more) and to valuate loan quality. The dataset has a severe class imbalance since it has less than 10% delinquency rate. The challenge of working with this kind of imbalanced datasets is that most machine learning techniques will ignore the minority class, although it's performance on the minority class that is most important. In order to solve the problem involve rebalancing, boostrapping and SMOTE techniques.\n",
    "\n",
    "Data:\n",
    "Randomly sampling 6% of loans data in 2009 \n",
    "the sampled data need to meet the following criteria: \n",
    "* Single family home\n",
    "* 30-year fixed rate\n",
    "* FICO score between 550 and 850"
   ]
  },
  {
   "cell_type": "code",
   "execution_count": 38,
   "id": "07abf5ea-ca19-479f-805f-c91cad1df2d2",
   "metadata": {},
   "outputs": [],
   "source": [
    "data=pd.read_csv('loanWithLabel_2009')"
   ]
  },
  {
   "cell_type": "code",
   "execution_count": 39,
   "id": "172a56d7-8b55-4294-8b58-9a593efc24cf",
   "metadata": {},
   "outputs": [
    {
     "data": {
      "text/plain": [
       "Index(['CREDIT_SCORE', 'FIRST_PAYMENT_DATE', 'FIRST_TIME_HOMEBUYER_FLAG',\n",
       "       'MATURITY_DATE', 'MSA', 'MI', 'NUMBER_OF_UNITS', 'OCCUPANCY_STATUS',\n",
       "       'CLTV', 'ORIGINAL_DTI', 'ORIGINAL_UPB', 'ORIGINAL_LTV',\n",
       "       'ORIGINAL_INTEREST_RATE', 'CHANNEL', 'PPM_FLAG', 'PRODUCT_TYPE',\n",
       "       'PROPERTY_STATE', 'PROPERTY_TYPE', 'POSTAL_CODE',\n",
       "       'LOAN_SEQUENCE_NUMBER', 'LOAN_PURPOSE', 'ORIGINAL_LOAN_TERM',\n",
       "       'NUMBER_OF_BORROWERS', 'SELLER_NAME', 'SERVICER_NAME',\n",
       "       'SUPER_CONFORMING_FLAG', 'delinLabel'],\n",
       "      dtype='object')"
      ]
     },
     "execution_count": 39,
     "metadata": {},
     "output_type": "execute_result"
    }
   ],
   "source": [
    "data.columns"
   ]
  },
  {
   "cell_type": "markdown",
   "id": "e922badd-c8c7-4749-b61b-d5ede9a377a4",
   "metadata": {},
   "source": [
    "### First part: cleaning and feature selection"
   ]
  },
  {
   "cell_type": "markdown",
   "id": "f9f77bac-d1b1-4a92-8f5e-cd9810e235df",
   "metadata": {},
   "source": [
    "##### Columns we will not include: \n",
    "\n",
    "* FIRST PAYMENT DATE: meaningless. can't decline a loan application based on this information\n",
    "* FIRST_PAYMENT_DATE: meaningless. can't decline a loan application based on this information\n",
    "* MATURITY_DATE: meaningless. can't decline a loan application based on this information\n",
    "* MSA: METROPOLITAN STATISTICAL AREA like zip code. We will replace Nan value with N (meaning not in metropolian area) and others with Y (meaning in metropolian area) \n",
    "* PROPERTY_STATE: meaningless. can't decline a loan application based on this information\n",
    "* POSTAL CODE: meaningless. can't decline a loan application based on this information\n",
    "* LOAN SEQUENCE NUMBER: id information\n",
    "* ORIGINAL_LOAN_TERM: we already filter data with 30-year fixed rate\n",
    "* PROPERTY_TYPE : we already filter data with single family home\n",
    "* SELLER_NAME: meaningless. can't decline a loan application based on this information\n",
    "* SERVICER_NAME: meaningless. can't decline a loan application based on this information\n",
    "* PRODUCT_TYPE: we already filter data with 30-year fixed rate product"
   ]
  },
  {
   "cell_type": "code",
   "execution_count": 40,
   "id": "215d3f32-72af-4bd7-9821-e27c84c88af1",
   "metadata": {},
   "outputs": [],
   "source": [
    "data=data[['CREDIT_SCORE', 'FIRST_TIME_HOMEBUYER_FLAG', 'MSA', 'MI', 'NUMBER_OF_UNITS', 'OCCUPANCY_STATUS','CLTV', 'ORIGINAL_DTI', \n",
    "     'ORIGINAL_UPB', 'ORIGINAL_LTV','ORIGINAL_INTEREST_RATE', 'CHANNEL', 'PPM_FLAG',  \n",
    "     'LOAN_PURPOSE', 'NUMBER_OF_BORROWERS', 'SUPER_CONFORMING_FLAG', 'delinLabel']]"
   ]
  },
  {
   "cell_type": "markdown",
   "id": "c602f8af-ca5a-454b-bbe8-969d43213b94",
   "metadata": {},
   "source": [
    "##### Remove unavailable or out of range value in columns"
   ]
  },
  {
   "cell_type": "code",
   "execution_count": 41,
   "id": "511fc01d-d634-41ed-bef0-59447c5611f3",
   "metadata": {},
   "outputs": [
    {
     "data": {
      "text/plain": [
       "48553"
      ]
     },
     "execution_count": 41,
     "metadata": {},
     "output_type": "execute_result"
    }
   ],
   "source": [
    "data=data[data.CREDIT_SCORE!=9999]\n",
    "data=data[data.FIRST_TIME_HOMEBUYER_FLAG!='9']\n",
    "data=data[data.MI!=999]\n",
    "data=data[data.NUMBER_OF_UNITS!=99]\n",
    "data=data[data.OCCUPANCY_STATUS!=9]\n",
    "data=data[data.CLTV!=999]\n",
    "data=data[data.ORIGINAL_DTI!=999]\n",
    "data=data[data.ORIGINAL_LTV!=999]\n",
    "data=data[data.CHANNEL!=9]\n",
    "data=data[data.LOAN_PURPOSE!=9]\n",
    "data=data[data.NUMBER_OF_BORROWERS!=99]\n",
    "len(data)"
   ]
  },
  {
   "cell_type": "markdown",
   "id": "3afea43f-9ecc-4841-8479-8465564fd3f5",
   "metadata": {},
   "source": [
    "##### Recoding variables"
   ]
  },
  {
   "cell_type": "code",
   "execution_count": 42,
   "id": "4afe8acd-7e1d-40b9-b618-2c788b32bab8",
   "metadata": {},
   "outputs": [],
   "source": [
    "# METROPOLITAN STATISTICAL AREA,this variable is smiliar with zip code. \n",
    "# Replace Nan value with 0 (meaning not in metropolian area) and others with 1 (meaning in metropolian area)\n",
    "data.loc[data.MSA.notnull(),'MSA']=int(1)\n",
    "data.loc[data.MSA.isnull(),'MSA']=int(0)"
   ]
  },
  {
   "cell_type": "code",
   "execution_count": 43,
   "id": "da5f3def-aa86-449a-b944-246489b4276b",
   "metadata": {},
   "outputs": [
    {
     "name": "stdout",
     "output_type": "stream",
     "text": [
      "0.0980166004160402\n"
     ]
    }
   ],
   "source": [
    "# MI mortgage insurance\n",
    "# less than 10% of loans show MI >0, so recode this variable to 1 and 0\n",
    "print(len(data[data['MI']>0])/len(data))\n",
    "data.loc[data.MI>0,'MI']=1\n",
    "data.loc[data.MI<=0,'MI']=0"
   ]
  },
  {
   "cell_type": "code",
   "execution_count": 44,
   "id": "1b9aabf9-631a-4904-a465-37eb55377f70",
   "metadata": {},
   "outputs": [
    {
     "name": "stdout",
     "output_type": "stream",
     "text": [
      "['N' nan]\n"
     ]
    }
   ],
   "source": [
    "# PPM_FLAG: PREPAYMENT PENALTY MORTGAGE, recode to 1 and 0\n",
    "print(data.PPM_FLAG.unique())\n",
    "data.loc[data.PPM_FLAG.isnull(),'PPM_FLAG']=1\n",
    "data.loc[data.PPM_FLAG=='N','PPM_FLAG']=0"
   ]
  },
  {
   "cell_type": "code",
   "execution_count": 45,
   "id": "5c040a87-bc3f-467f-8db7-90ba30f9455a",
   "metadata": {},
   "outputs": [
    {
     "name": "stdout",
     "output_type": "stream",
     "text": [
      "['N' 'Y']\n"
     ]
    }
   ],
   "source": [
    "# FIRST_TIME_HOMEBUYER_FLAG\n",
    "print(data.FIRST_TIME_HOMEBUYER_FLAG.unique())\n",
    "data.loc[data.FIRST_TIME_HOMEBUYER_FLAG=='N','FIRST_TIME_HOMEBUYER_FLAG']=0\n",
    "data.loc[data.FIRST_TIME_HOMEBUYER_FLAG=='Y','FIRST_TIME_HOMEBUYER_FLAG']=1"
   ]
  },
  {
   "cell_type": "code",
   "execution_count": 46,
   "id": "270827f5-ebd8-4b23-8745-12b3a7400b94",
   "metadata": {},
   "outputs": [
    {
     "name": "stdout",
     "output_type": "stream",
     "text": [
      "[nan 'Y']\n"
     ]
    }
   ],
   "source": [
    "# Recode SUPER_CONFORMING_FLAG: if nan then not super conforming 0, if Y then super conforming 1\n",
    "print(data.SUPER_CONFORMING_FLAG.unique())\n",
    "data.loc[data.SUPER_CONFORMING_FLAG=='Y','SUPER_CONFORMING_FLAG']=1\n",
    "data.loc[data.SUPER_CONFORMING_FLAG.isnull(),'SUPER_CONFORMING_FLAG']=0"
   ]
  },
  {
   "cell_type": "code",
   "execution_count": 47,
   "id": "b0ef85c1-8587-4a7e-9200-667a9c5a6b03",
   "metadata": {},
   "outputs": [
    {
     "name": "stdout",
     "output_type": "stream",
     "text": [
      "0.985253228430787\n"
     ]
    }
   ],
   "source": [
    "# NUMBER_OF_UNITS less than 10% of number of unit data larger than 1 so recode it into 1(more than 1 unit) and 0(one unit) \n",
    "print(len(data[data.NUMBER_OF_UNITS==1])/len(data))\n",
    "data.loc[data.NUMBER_OF_UNITS==1,'NUMBER_OF_UNITS']=0\n",
    "data.loc[data.NUMBER_OF_UNITS>1,'NUMBER_OF_UNITS']=1"
   ]
  },
  {
   "cell_type": "code",
   "execution_count": 48,
   "id": "fca7b892-3ec6-40fd-b418-44bbfd28ad3e",
   "metadata": {},
   "outputs": [],
   "source": [
    "# Recode delinlabel to 1 and 0\n",
    "data.loc[data.delinLabel=='N','delinLabel']=0\n",
    "data.loc[data.delinLabel=='Y','delinLabel']=1"
   ]
  },
  {
   "cell_type": "code",
   "execution_count": 49,
   "id": "09e50edb-0ab1-47ff-b479-9dcfc433c94f",
   "metadata": {},
   "outputs": [
    {
     "data": {
      "text/plain": [
       "<AxesSubplot:>"
      ]
     },
     "execution_count": 49,
     "metadata": {},
     "output_type": "execute_result"
    },
    {
     "data": {
      "image/png": "[encoded data removed]",
      "text/plain": [
       "<Figure size 432x288 with 1 Axes>"
      ]
     },
     "metadata": {
      "needs_background": "light"
     },
     "output_type": "display_data"
    }
   ],
   "source": [
    "#check missing data visually\n",
    "sns.heatmap(data.isnull(),yticklabels=False,cbar=False,cmap='viridis')"
   ]
  },
  {
   "cell_type": "code",
   "execution_count": 50,
   "id": "c6eb5608-c393-4ad6-90f5-123dcf772518",
   "metadata": {},
   "outputs": [
    {
     "data": {
      "text/plain": [
       "Index(['CREDIT_SCORE', 'FIRST_TIME_HOMEBUYER_FLAG', 'MSA', 'MI',\n",
       "       'NUMBER_OF_UNITS', 'OCCUPANCY_STATUS', 'CLTV', 'ORIGINAL_DTI',\n",
       "       'ORIGINAL_UPB', 'ORIGINAL_LTV', 'ORIGINAL_INTEREST_RATE', 'CHANNEL',\n",
       "       'PPM_FLAG', 'LOAN_PURPOSE', 'NUMBER_OF_BORROWERS',\n",
       "       'SUPER_CONFORMING_FLAG', 'delinLabel'],\n",
       "      dtype='object')"
      ]
     },
     "execution_count": 50,
     "metadata": {},
     "output_type": "execute_result"
    }
   ],
   "source": [
    "data.columns"
   ]
  },
  {
   "cell_type": "markdown",
   "id": "212522cf-3202-48fc-8551-4ce32afc6e4e",
   "metadata": {},
   "source": [
    "##### Change categorical data into dummy variable"
   ]
  },
  {
   "cell_type": "code",
   "execution_count": 51,
   "id": "9f062749-3a4f-4b41-b792-ecaffe1ba97d",
   "metadata": {},
   "outputs": [
    {
     "data": {
      "text/html": [
       "<div>\n",
       "<style scoped>\n",
       "    .dataframe tbody tr th:only-of-type {\n",
       "        vertical-align: middle;\n",
       "    }\n",
       "\n",
       "    .dataframe tbody tr th {\n",
       "        vertical-align: top;\n",
       "    }\n",
       "\n",
       "    .dataframe thead th {\n",
       "        text-align: right;\n",
       "    }\n",
       "</style>\n",
       "<table border=\"1\" class=\"dataframe\">\n",
       "  <thead>\n",
       "    <tr style=\"text-align: right;\">\n",
       "      <th></th>\n",
       "      <th>CREDIT_SCORE</th>\n",
       "      <th>FIRST_TIME_HOMEBUYER_FLAG</th>\n",
       "      <th>MSA</th>\n",
       "      <th>MI</th>\n",
       "      <th>NUMBER_OF_UNITS</th>\n",
       "      <th>OCCUPANCY_STATUS</th>\n",
       "      <th>CLTV</th>\n",
       "      <th>ORIGINAL_DTI</th>\n",
       "      <th>ORIGINAL_UPB</th>\n",
       "      <th>ORIGINAL_LTV</th>\n",
       "      <th>ORIGINAL_INTEREST_RATE</th>\n",
       "      <th>CHANNEL</th>\n",
       "      <th>PPM_FLAG</th>\n",
       "      <th>LOAN_PURPOSE</th>\n",
       "      <th>NUMBER_OF_BORROWERS</th>\n",
       "      <th>SUPER_CONFORMING_FLAG</th>\n",
       "      <th>delinLabel</th>\n",
       "    </tr>\n",
       "  </thead>\n",
       "  <tbody>\n",
       "    <tr>\n",
       "      <th>0</th>\n",
       "      <td>751</td>\n",
       "      <td>0</td>\n",
       "      <td>0.0</td>\n",
       "      <td>0</td>\n",
       "      <td>0</td>\n",
       "      <td>P</td>\n",
       "      <td>91</td>\n",
       "      <td>28</td>\n",
       "      <td>117000</td>\n",
       "      <td>80</td>\n",
       "      <td>5.250</td>\n",
       "      <td>R</td>\n",
       "      <td>0</td>\n",
       "      <td>N</td>\n",
       "      <td>2</td>\n",
       "      <td>0</td>\n",
       "      <td>0</td>\n",
       "    </tr>\n",
       "    <tr>\n",
       "      <th>1</th>\n",
       "      <td>730</td>\n",
       "      <td>0</td>\n",
       "      <td>1.0</td>\n",
       "      <td>0</td>\n",
       "      <td>0</td>\n",
       "      <td>P</td>\n",
       "      <td>74</td>\n",
       "      <td>50</td>\n",
       "      <td>278000</td>\n",
       "      <td>74</td>\n",
       "      <td>4.500</td>\n",
       "      <td>R</td>\n",
       "      <td>0</td>\n",
       "      <td>C</td>\n",
       "      <td>1</td>\n",
       "      <td>0</td>\n",
       "      <td>0</td>\n",
       "    </tr>\n",
       "    <tr>\n",
       "      <th>2</th>\n",
       "      <td>786</td>\n",
       "      <td>0</td>\n",
       "      <td>1.0</td>\n",
       "      <td>0</td>\n",
       "      <td>0</td>\n",
       "      <td>P</td>\n",
       "      <td>76</td>\n",
       "      <td>48</td>\n",
       "      <td>245000</td>\n",
       "      <td>76</td>\n",
       "      <td>5.625</td>\n",
       "      <td>C</td>\n",
       "      <td>0</td>\n",
       "      <td>N</td>\n",
       "      <td>2</td>\n",
       "      <td>0</td>\n",
       "      <td>0</td>\n",
       "    </tr>\n",
       "    <tr>\n",
       "      <th>3</th>\n",
       "      <td>744</td>\n",
       "      <td>0</td>\n",
       "      <td>1.0</td>\n",
       "      <td>0</td>\n",
       "      <td>0</td>\n",
       "      <td>P</td>\n",
       "      <td>79</td>\n",
       "      <td>53</td>\n",
       "      <td>250000</td>\n",
       "      <td>79</td>\n",
       "      <td>4.750</td>\n",
       "      <td>R</td>\n",
       "      <td>0</td>\n",
       "      <td>N</td>\n",
       "      <td>1</td>\n",
       "      <td>0</td>\n",
       "      <td>0</td>\n",
       "    </tr>\n",
       "    <tr>\n",
       "      <th>4</th>\n",
       "      <td>790</td>\n",
       "      <td>0</td>\n",
       "      <td>1.0</td>\n",
       "      <td>0</td>\n",
       "      <td>0</td>\n",
       "      <td>P</td>\n",
       "      <td>68</td>\n",
       "      <td>46</td>\n",
       "      <td>379000</td>\n",
       "      <td>68</td>\n",
       "      <td>5.125</td>\n",
       "      <td>R</td>\n",
       "      <td>0</td>\n",
       "      <td>N</td>\n",
       "      <td>2</td>\n",
       "      <td>0</td>\n",
       "      <td>0</td>\n",
       "    </tr>\n",
       "  </tbody>\n",
       "</table>\n",
       "</div>"
      ],
      "text/plain": [
       "   CREDIT_SCORE FIRST_TIME_HOMEBUYER_FLAG  MSA  MI  NUMBER_OF_UNITS  \\\n",
       "0           751                         0  0.0   0                0   \n",
       "1           730                         0  1.0   0                0   \n",
       "2           786                         0  1.0   0                0   \n",
       "3           744                         0  1.0   0                0   \n",
       "4           790                         0  1.0   0                0   \n",
       "\n",
       "  OCCUPANCY_STATUS  CLTV  ORIGINAL_DTI  ORIGINAL_UPB  ORIGINAL_LTV  \\\n",
       "0                P    91            28        117000            80   \n",
       "1                P    74            50        278000            74   \n",
       "2                P    76            48        245000            76   \n",
       "3                P    79            53        250000            79   \n",
       "4                P    68            46        379000            68   \n",
       "\n",
       "   ORIGINAL_INTEREST_RATE CHANNEL PPM_FLAG LOAN_PURPOSE  NUMBER_OF_BORROWERS  \\\n",
       "0                   5.250       R        0            N                    2   \n",
       "1                   4.500       R        0            C                    1   \n",
       "2                   5.625       C        0            N                    2   \n",
       "3                   4.750       R        0            N                    1   \n",
       "4                   5.125       R        0            N                    2   \n",
       "\n",
       "  SUPER_CONFORMING_FLAG delinLabel  \n",
       "0                     0          0  \n",
       "1                     0          0  \n",
       "2                     0          0  \n",
       "3                     0          0  \n",
       "4                     0          0  "
      ]
     },
     "execution_count": 51,
     "metadata": {},
     "output_type": "execute_result"
    }
   ],
   "source": [
    "data.head()"
   ]
  },
  {
   "cell_type": "code",
   "execution_count": 52,
   "id": "20db59c0-3bd0-4165-9a56-18e5a59b8aec",
   "metadata": {},
   "outputs": [
    {
     "name": "stdout",
     "output_type": "stream",
     "text": [
      "OCCUPANCY_STATUS\n",
      "['P' 'S' 'I']\n",
      "CHANNEL\n",
      "['R' 'C' 'B']\n",
      "LOAN_PURPOSE\n",
      "['N' 'C' 'P']\n",
      "NUMBER_OF_BORROWERS\n",
      "[2 1]\n"
     ]
    }
   ],
   "source": [
    "# find columns that needs to change to dummy variable\n",
    "# NUMBER_OF_BORROWERS doesn't need to change, but we need to specify its two value is 2 and 1 \n",
    "for i in ['OCCUPANCY_STATUS','CHANNEL','LOAN_PURPOSE','NUMBER_OF_BORROWERS']:\n",
    "    print(i)\n",
    "    print(data[i].unique())"
   ]
  },
  {
   "cell_type": "code",
   "execution_count": 53,
   "id": "9030c5c9-b65b-4581-8382-73db0345b23b",
   "metadata": {},
   "outputs": [],
   "source": [
    "# we drop first feature to avoid feature cancel each other\n",
    "OCCUPANCY_STATUS = pd.get_dummies(data['OCCUPANCY_STATUS'],drop_first=True)\n",
    "CHANNEL = pd.get_dummies(data['CHANNEL'],drop_first=True)\n",
    "LOAN_PURPOSE = pd.get_dummies(data['LOAN_PURPOSE'],drop_first=True)\n",
    "data.drop(['OCCUPANCY_STATUS','CHANNEL','LOAN_PURPOSE'],axis=1,inplace=True)\n",
    "data_dummy = pd.concat([data,OCCUPANCY_STATUS,CHANNEL,LOAN_PURPOSE],axis=1)"
   ]
  },
  {
   "cell_type": "code",
   "execution_count": 54,
   "id": "7f9fd479-d126-4387-95c9-ef1ddf053fcf",
   "metadata": {},
   "outputs": [
    {
     "data": {
      "text/plain": [
       "Index(['CREDIT_SCORE', 'FIRST_TIME_HOMEBUYER_FLAG', 'MSA', 'MI',\n",
       "       'NUMBER_OF_UNITS', 'CLTV', 'ORIGINAL_DTI', 'ORIGINAL_UPB',\n",
       "       'ORIGINAL_LTV', 'ORIGINAL_INTEREST_RATE', 'PPM_FLAG',\n",
       "       'NUMBER_OF_BORROWERS', 'SUPER_CONFORMING_FLAG', 'delinLabel', 'P', 'S',\n",
       "       'C', 'R', 'N', 'P'],\n",
       "      dtype='object')"
      ]
     },
     "execution_count": 54,
     "metadata": {},
     "output_type": "execute_result"
    }
   ],
   "source": [
    "data_dummy.columns"
   ]
  },
  {
   "cell_type": "code",
   "execution_count": 55,
   "id": "662ee680-b631-409b-bf3d-af553d4b0a11",
   "metadata": {},
   "outputs": [],
   "source": [
    "data_dummy.columns=['CREDIT_SCORE', 'FIRST_TIME_HOMEBUYER_FLAG', 'MSA', 'MI',\n",
    "       'NUMBER_OF_UNITS', 'CLTV', 'ORIGINAL_DTI', 'ORIGINAL_UPB',\n",
    "       'ORIGINAL_LTV', 'ORIGINAL_INTEREST_RATE', 'PPM_FLAG',\n",
    "       'NUMBER_OF_BORROWERS', 'SUPER_CONFORMING_FLAG', 'delinLabel', 'OCCUPANCY_STATUS_P', 'OCCUPANCY_STATUS_S',\n",
    "       'CHANNEL_C', 'CHANNEL_R', 'LOAN_PURPOSE_N', 'LOAN_PURPOSE_P']"
   ]
  },
  {
   "cell_type": "code",
   "execution_count": null,
   "id": "3a93f31c-dcce-429d-844e-125a1becaf7d",
   "metadata": {},
   "outputs": [],
   "source": []
  },
  {
   "cell_type": "markdown",
   "id": "b62094c9-8fa2-46cd-a171-38ef883bc356",
   "metadata": {},
   "source": [
    "#### Collinearity Check"
   ]
  },
  {
   "cell_type": "markdown",
   "id": "7bbea445-9715-4284-8357-4838cb6bfc1a",
   "metadata": {},
   "source": [
    "#### Check correlation between variables"
   ]
  },
  {
   "cell_type": "code",
   "execution_count": 56,
   "id": "46a49cc9-c5f4-4d81-b3c4-43dbc8da138a",
   "metadata": {},
   "outputs": [
    {
     "data": {
      "text/html": [
       "<div>\n",
       "<style scoped>\n",
       "    .dataframe tbody tr th:only-of-type {\n",
       "        vertical-align: middle;\n",
       "    }\n",
       "\n",
       "    .dataframe tbody tr th {\n",
       "        vertical-align: top;\n",
       "    }\n",
       "\n",
       "    .dataframe thead th {\n",
       "        text-align: right;\n",
       "    }\n",
       "</style>\n",
       "<table border=\"1\" class=\"dataframe\">\n",
       "  <thead>\n",
       "    <tr style=\"text-align: right;\">\n",
       "      <th></th>\n",
       "      <th>CREDIT_SCORE</th>\n",
       "      <th>MSA</th>\n",
       "      <th>MI</th>\n",
       "      <th>NUMBER_OF_UNITS</th>\n",
       "      <th>CLTV</th>\n",
       "      <th>ORIGINAL_DTI</th>\n",
       "      <th>ORIGINAL_UPB</th>\n",
       "      <th>ORIGINAL_LTV</th>\n",
       "      <th>ORIGINAL_INTEREST_RATE</th>\n",
       "      <th>NUMBER_OF_BORROWERS</th>\n",
       "      <th>OCCUPANCY_STATUS_P</th>\n",
       "      <th>OCCUPANCY_STATUS_S</th>\n",
       "      <th>CHANNEL_C</th>\n",
       "      <th>CHANNEL_R</th>\n",
       "      <th>LOAN_PURPOSE_N</th>\n",
       "      <th>LOAN_PURPOSE_P</th>\n",
       "    </tr>\n",
       "  </thead>\n",
       "  <tbody>\n",
       "    <tr>\n",
       "      <th>CREDIT_SCORE</th>\n",
       "      <td>1.000000</td>\n",
       "      <td>0.041386</td>\n",
       "      <td>-0.047295</td>\n",
       "      <td>-0.016713</td>\n",
       "      <td>-0.108962</td>\n",
       "      <td>-0.205709</td>\n",
       "      <td>0.047653</td>\n",
       "      <td>-0.107090</td>\n",
       "      <td>-0.242386</td>\n",
       "      <td>0.015817</td>\n",
       "      <td>-0.020787</td>\n",
       "      <td>0.034119</td>\n",
       "      <td>0.007051</td>\n",
       "      <td>0.008298</td>\n",
       "      <td>0.086425</td>\n",
       "      <td>-0.021358</td>\n",
       "    </tr>\n",
       "    <tr>\n",
       "      <th>MSA</th>\n",
       "      <td>0.041386</td>\n",
       "      <td>1.000000</td>\n",
       "      <td>-0.001307</td>\n",
       "      <td>-0.030487</td>\n",
       "      <td>-0.013998</td>\n",
       "      <td>0.008106</td>\n",
       "      <td>0.169152</td>\n",
       "      <td>-0.027521</td>\n",
       "      <td>-0.011327</td>\n",
       "      <td>-0.030137</td>\n",
       "      <td>0.107452</td>\n",
       "      <td>-0.143574</td>\n",
       "      <td>0.063011</td>\n",
       "      <td>-0.107468</td>\n",
       "      <td>-0.014426</td>\n",
       "      <td>0.046880</td>\n",
       "    </tr>\n",
       "    <tr>\n",
       "      <th>MI</th>\n",
       "      <td>-0.047295</td>\n",
       "      <td>-0.001307</td>\n",
       "      <td>1.000000</td>\n",
       "      <td>-0.039755</td>\n",
       "      <td>0.423109</td>\n",
       "      <td>-0.003139</td>\n",
       "      <td>-0.054368</td>\n",
       "      <td>0.446978</td>\n",
       "      <td>0.051508</td>\n",
       "      <td>-0.043795</td>\n",
       "      <td>0.081700</td>\n",
       "      <td>-0.059183</td>\n",
       "      <td>0.020685</td>\n",
       "      <td>-0.000851</td>\n",
       "      <td>-0.066550</td>\n",
       "      <td>0.275996</td>\n",
       "    </tr>\n",
       "    <tr>\n",
       "      <th>NUMBER_OF_UNITS</th>\n",
       "      <td>-0.016713</td>\n",
       "      <td>-0.030487</td>\n",
       "      <td>-0.039755</td>\n",
       "      <td>1.000000</td>\n",
       "      <td>-0.042365</td>\n",
       "      <td>0.048143</td>\n",
       "      <td>0.042237</td>\n",
       "      <td>-0.037641</td>\n",
       "      <td>0.097344</td>\n",
       "      <td>-0.026542</td>\n",
       "      <td>-0.122766</td>\n",
       "      <td>-0.024005</td>\n",
       "      <td>-0.004877</td>\n",
       "      <td>-0.005376</td>\n",
       "      <td>-0.022585</td>\n",
       "      <td>0.009046</td>\n",
       "    </tr>\n",
       "    <tr>\n",
       "      <th>CLTV</th>\n",
       "      <td>-0.108962</td>\n",
       "      <td>-0.013998</td>\n",
       "      <td>0.423109</td>\n",
       "      <td>-0.042365</td>\n",
       "      <td>1.000000</td>\n",
       "      <td>0.095353</td>\n",
       "      <td>0.029370</td>\n",
       "      <td>0.953175</td>\n",
       "      <td>0.145966</td>\n",
       "      <td>-0.068558</td>\n",
       "      <td>0.029310</td>\n",
       "      <td>-0.027172</td>\n",
       "      <td>0.015699</td>\n",
       "      <td>-0.024360</td>\n",
       "      <td>-0.096143</td>\n",
       "      <td>0.346499</td>\n",
       "    </tr>\n",
       "    <tr>\n",
       "      <th>ORIGINAL_DTI</th>\n",
       "      <td>-0.205709</td>\n",
       "      <td>0.008106</td>\n",
       "      <td>-0.003139</td>\n",
       "      <td>0.048143</td>\n",
       "      <td>0.095353</td>\n",
       "      <td>1.000000</td>\n",
       "      <td>0.094736</td>\n",
       "      <td>0.089697</td>\n",
       "      <td>0.125653</td>\n",
       "      <td>-0.139581</td>\n",
       "      <td>-0.023134</td>\n",
       "      <td>-0.002162</td>\n",
       "      <td>-0.005863</td>\n",
       "      <td>-0.049960</td>\n",
       "      <td>-0.083618</td>\n",
       "      <td>0.053402</td>\n",
       "    </tr>\n",
       "    <tr>\n",
       "      <th>ORIGINAL_UPB</th>\n",
       "      <td>0.047653</td>\n",
       "      <td>0.169152</td>\n",
       "      <td>-0.054368</td>\n",
       "      <td>0.042237</td>\n",
       "      <td>0.029370</td>\n",
       "      <td>0.094736</td>\n",
       "      <td>1.000000</td>\n",
       "      <td>-0.012142</td>\n",
       "      <td>-0.124933</td>\n",
       "      <td>0.175782</td>\n",
       "      <td>0.055482</td>\n",
       "      <td>0.010863</td>\n",
       "      <td>0.050881</td>\n",
       "      <td>-0.133483</td>\n",
       "      <td>0.103008</td>\n",
       "      <td>-0.047949</td>\n",
       "    </tr>\n",
       "    <tr>\n",
       "      <th>ORIGINAL_LTV</th>\n",
       "      <td>-0.107090</td>\n",
       "      <td>-0.027521</td>\n",
       "      <td>0.446978</td>\n",
       "      <td>-0.037641</td>\n",
       "      <td>0.953175</td>\n",
       "      <td>0.089697</td>\n",
       "      <td>-0.012142</td>\n",
       "      <td>1.000000</td>\n",
       "      <td>0.163039</td>\n",
       "      <td>-0.086488</td>\n",
       "      <td>0.011893</td>\n",
       "      <td>-0.015637</td>\n",
       "      <td>0.018295</td>\n",
       "      <td>-0.032113</td>\n",
       "      <td>-0.138099</td>\n",
       "      <td>0.371399</td>\n",
       "    </tr>\n",
       "    <tr>\n",
       "      <th>ORIGINAL_INTEREST_RATE</th>\n",
       "      <td>-0.242386</td>\n",
       "      <td>-0.011327</td>\n",
       "      <td>0.051508</td>\n",
       "      <td>0.097344</td>\n",
       "      <td>0.145966</td>\n",
       "      <td>0.125653</td>\n",
       "      <td>-0.124933</td>\n",
       "      <td>0.163039</td>\n",
       "      <td>1.000000</td>\n",
       "      <td>-0.096377</td>\n",
       "      <td>-0.165308</td>\n",
       "      <td>-0.002023</td>\n",
       "      <td>-0.017939</td>\n",
       "      <td>-0.030357</td>\n",
       "      <td>-0.198853</td>\n",
       "      <td>0.203123</td>\n",
       "    </tr>\n",
       "    <tr>\n",
       "      <th>NUMBER_OF_BORROWERS</th>\n",
       "      <td>0.015817</td>\n",
       "      <td>-0.030137</td>\n",
       "      <td>-0.043795</td>\n",
       "      <td>-0.026542</td>\n",
       "      <td>-0.068558</td>\n",
       "      <td>-0.139581</td>\n",
       "      <td>0.175782</td>\n",
       "      <td>-0.086488</td>\n",
       "      <td>-0.096377</td>\n",
       "      <td>1.000000</td>\n",
       "      <td>-0.020705</td>\n",
       "      <td>0.036541</td>\n",
       "      <td>-0.006796</td>\n",
       "      <td>0.023088</td>\n",
       "      <td>0.073367</td>\n",
       "      <td>-0.103183</td>\n",
       "    </tr>\n",
       "    <tr>\n",
       "      <th>OCCUPANCY_STATUS_P</th>\n",
       "      <td>-0.020787</td>\n",
       "      <td>0.107452</td>\n",
       "      <td>0.081700</td>\n",
       "      <td>-0.122766</td>\n",
       "      <td>0.029310</td>\n",
       "      <td>-0.023134</td>\n",
       "      <td>0.055482</td>\n",
       "      <td>0.011893</td>\n",
       "      <td>-0.165308</td>\n",
       "      <td>-0.020705</td>\n",
       "      <td>1.000000</td>\n",
       "      <td>-0.752500</td>\n",
       "      <td>-0.001337</td>\n",
       "      <td>0.010546</td>\n",
       "      <td>0.039091</td>\n",
       "      <td>-0.084439</td>\n",
       "    </tr>\n",
       "    <tr>\n",
       "      <th>OCCUPANCY_STATUS_S</th>\n",
       "      <td>0.034119</td>\n",
       "      <td>-0.143574</td>\n",
       "      <td>-0.059183</td>\n",
       "      <td>-0.024005</td>\n",
       "      <td>-0.027172</td>\n",
       "      <td>-0.002162</td>\n",
       "      <td>0.010863</td>\n",
       "      <td>-0.015637</td>\n",
       "      <td>-0.002023</td>\n",
       "      <td>0.036541</td>\n",
       "      <td>-0.752500</td>\n",
       "      <td>1.000000</td>\n",
       "      <td>-0.001923</td>\n",
       "      <td>0.007972</td>\n",
       "      <td>-0.001899</td>\n",
       "      <td>0.055572</td>\n",
       "    </tr>\n",
       "    <tr>\n",
       "      <th>CHANNEL_C</th>\n",
       "      <td>0.007051</td>\n",
       "      <td>0.063011</td>\n",
       "      <td>0.020685</td>\n",
       "      <td>-0.004877</td>\n",
       "      <td>0.015699</td>\n",
       "      <td>-0.005863</td>\n",
       "      <td>0.050881</td>\n",
       "      <td>0.018295</td>\n",
       "      <td>-0.017939</td>\n",
       "      <td>-0.006796</td>\n",
       "      <td>-0.001337</td>\n",
       "      <td>-0.001923</td>\n",
       "      <td>1.000000</td>\n",
       "      <td>-0.691582</td>\n",
       "      <td>-0.025420</td>\n",
       "      <td>0.048704</td>\n",
       "    </tr>\n",
       "    <tr>\n",
       "      <th>CHANNEL_R</th>\n",
       "      <td>0.008298</td>\n",
       "      <td>-0.107468</td>\n",
       "      <td>-0.000851</td>\n",
       "      <td>-0.005376</td>\n",
       "      <td>-0.024360</td>\n",
       "      <td>-0.049960</td>\n",
       "      <td>-0.133483</td>\n",
       "      <td>-0.032113</td>\n",
       "      <td>-0.030357</td>\n",
       "      <td>0.023088</td>\n",
       "      <td>0.010546</td>\n",
       "      <td>0.007972</td>\n",
       "      <td>-0.691582</td>\n",
       "      <td>1.000000</td>\n",
       "      <td>0.012917</td>\n",
       "      <td>-0.041285</td>\n",
       "    </tr>\n",
       "    <tr>\n",
       "      <th>LOAN_PURPOSE_N</th>\n",
       "      <td>0.086425</td>\n",
       "      <td>-0.014426</td>\n",
       "      <td>-0.066550</td>\n",
       "      <td>-0.022585</td>\n",
       "      <td>-0.096143</td>\n",
       "      <td>-0.083618</td>\n",
       "      <td>0.103008</td>\n",
       "      <td>-0.138099</td>\n",
       "      <td>-0.198853</td>\n",
       "      <td>0.073367</td>\n",
       "      <td>0.039091</td>\n",
       "      <td>-0.001899</td>\n",
       "      <td>-0.025420</td>\n",
       "      <td>0.012917</td>\n",
       "      <td>1.000000</td>\n",
       "      <td>-0.534219</td>\n",
       "    </tr>\n",
       "    <tr>\n",
       "      <th>LOAN_PURPOSE_P</th>\n",
       "      <td>-0.021358</td>\n",
       "      <td>0.046880</td>\n",
       "      <td>0.275996</td>\n",
       "      <td>0.009046</td>\n",
       "      <td>0.346499</td>\n",
       "      <td>0.053402</td>\n",
       "      <td>-0.047949</td>\n",
       "      <td>0.371399</td>\n",
       "      <td>0.203123</td>\n",
       "      <td>-0.103183</td>\n",
       "      <td>-0.084439</td>\n",
       "      <td>0.055572</td>\n",
       "      <td>0.048704</td>\n",
       "      <td>-0.041285</td>\n",
       "      <td>-0.534219</td>\n",
       "      <td>1.000000</td>\n",
       "    </tr>\n",
       "  </tbody>\n",
       "</table>\n",
       "</div>"
      ],
      "text/plain": [
       "                        CREDIT_SCORE       MSA        MI  NUMBER_OF_UNITS  \\\n",
       "CREDIT_SCORE                1.000000  0.041386 -0.047295        -0.016713   \n",
       "MSA                         0.041386  1.000000 -0.001307        -0.030487   \n",
       "MI                         -0.047295 -0.001307  1.000000        -0.039755   \n",
       "NUMBER_OF_UNITS            -0.016713 -0.030487 -0.039755         1.000000   \n",
       "CLTV                       -0.108962 -0.013998  0.423109        -0.042365   \n",
       "ORIGINAL_DTI               -0.205709  0.008106 -0.003139         0.048143   \n",
       "ORIGINAL_UPB                0.047653  0.169152 -0.054368         0.042237   \n",
       "ORIGINAL_LTV               -0.107090 -0.027521  0.446978        -0.037641   \n",
       "ORIGINAL_INTEREST_RATE     -0.242386 -0.011327  0.051508         0.097344   \n",
       "NUMBER_OF_BORROWERS         0.015817 -0.030137 -0.043795        -0.026542   \n",
       "OCCUPANCY_STATUS_P         -0.020787  0.107452  0.081700        -0.122766   \n",
       "OCCUPANCY_STATUS_S          0.034119 -0.143574 -0.059183        -0.024005   \n",
       "CHANNEL_C                   0.007051  0.063011  0.020685        -0.004877   \n",
       "CHANNEL_R                   0.008298 -0.107468 -0.000851        -0.005376   \n",
       "LOAN_PURPOSE_N              0.086425 -0.014426 -0.066550        -0.022585   \n",
       "LOAN_PURPOSE_P             -0.021358  0.046880  0.275996         0.009046   \n",
       "\n",
       "                            CLTV  ORIGINAL_DTI  ORIGINAL_UPB  ORIGINAL_LTV  \\\n",
       "CREDIT_SCORE           -0.108962     -0.205709      0.047653     -0.107090   \n",
       "MSA                    -0.013998      0.008106      0.169152     -0.027521   \n",
       "MI                      0.423109     -0.003139     -0.054368      0.446978   \n",
       "NUMBER_OF_UNITS        -0.042365      0.048143      0.042237     -0.037641   \n",
       "CLTV                    1.000000      0.095353      0.029370      0.953175   \n",
       "ORIGINAL_DTI            0.095353      1.000000      0.094736      0.089697   \n",
       "ORIGINAL_UPB            0.029370      0.094736      1.000000     -0.012142   \n",
       "ORIGINAL_LTV            0.953175      0.089697     -0.012142      1.000000   \n",
       "ORIGINAL_INTEREST_RATE  0.145966      0.125653     -0.124933      0.163039   \n",
       "NUMBER_OF_BORROWERS    -0.068558     -0.139581      0.175782     -0.086488   \n",
       "OCCUPANCY_STATUS_P      0.029310     -0.023134      0.055482      0.011893   \n",
       "OCCUPANCY_STATUS_S     -0.027172     -0.002162      0.010863     -0.015637   \n",
       "CHANNEL_C               0.015699     -0.005863      0.050881      0.018295   \n",
       "CHANNEL_R              -0.024360     -0.049960     -0.133483     -0.032113   \n",
       "LOAN_PURPOSE_N         -0.096143     -0.083618      0.103008     -0.138099   \n",
       "LOAN_PURPOSE_P          0.346499      0.053402     -0.047949      0.371399   \n",
       "\n",
       "                        ORIGINAL_INTEREST_RATE  NUMBER_OF_BORROWERS  \\\n",
       "CREDIT_SCORE                         -0.242386             0.015817   \n",
       "MSA                                  -0.011327            -0.030137   \n",
       "MI                                    0.051508            -0.043795   \n",
       "NUMBER_OF_UNITS                       0.097344            -0.026542   \n",
       "CLTV                                  0.145966            -0.068558   \n",
       "ORIGINAL_DTI                          0.125653            -0.139581   \n",
       "ORIGINAL_UPB                         -0.124933             0.175782   \n",
       "ORIGINAL_LTV                          0.163039            -0.086488   \n",
       "ORIGINAL_INTEREST_RATE                1.000000            -0.096377   \n",
       "NUMBER_OF_BORROWERS                  -0.096377             1.000000   \n",
       "OCCUPANCY_STATUS_P                   -0.165308            -0.020705   \n",
       "OCCUPANCY_STATUS_S                   -0.002023             0.036541   \n",
       "CHANNEL_C                            -0.017939            -0.006796   \n",
       "CHANNEL_R                            -0.030357             0.023088   \n",
       "LOAN_PURPOSE_N                       -0.198853             0.073367   \n",
       "LOAN_PURPOSE_P                        0.203123            -0.103183   \n",
       "\n",
       "                        OCCUPANCY_STATUS_P  OCCUPANCY_STATUS_S  CHANNEL_C  \\\n",
       "CREDIT_SCORE                     -0.020787            0.034119   0.007051   \n",
       "MSA                               0.107452           -0.143574   0.063011   \n",
       "MI                                0.081700           -0.059183   0.020685   \n",
       "NUMBER_OF_UNITS                  -0.122766           -0.024005  -0.004877   \n",
       "CLTV                              0.029310           -0.027172   0.015699   \n",
       "ORIGINAL_DTI                     -0.023134           -0.002162  -0.005863   \n",
       "ORIGINAL_UPB                      0.055482            0.010863   0.050881   \n",
       "ORIGINAL_LTV                      0.011893           -0.015637   0.018295   \n",
       "ORIGINAL_INTEREST_RATE           -0.165308           -0.002023  -0.017939   \n",
       "NUMBER_OF_BORROWERS              -0.020705            0.036541  -0.006796   \n",
       "OCCUPANCY_STATUS_P                1.000000           -0.752500  -0.001337   \n",
       "OCCUPANCY_STATUS_S               -0.752500            1.000000  -0.001923   \n",
       "CHANNEL_C                        -0.001337           -0.001923   1.000000   \n",
       "CHANNEL_R                         0.010546            0.007972  -0.691582   \n",
       "LOAN_PURPOSE_N                    0.039091           -0.001899  -0.025420   \n",
       "LOAN_PURPOSE_P                   -0.084439            0.055572   0.048704   \n",
       "\n",
       "                        CHANNEL_R  LOAN_PURPOSE_N  LOAN_PURPOSE_P  \n",
       "CREDIT_SCORE             0.008298        0.086425       -0.021358  \n",
       "MSA                     -0.107468       -0.014426        0.046880  \n",
       "MI                      -0.000851       -0.066550        0.275996  \n",
       "NUMBER_OF_UNITS         -0.005376       -0.022585        0.009046  \n",
       "CLTV                    -0.024360       -0.096143        0.346499  \n",
       "ORIGINAL_DTI            -0.049960       -0.083618        0.053402  \n",
       "ORIGINAL_UPB            -0.133483        0.103008       -0.047949  \n",
       "ORIGINAL_LTV            -0.032113       -0.138099        0.371399  \n",
       "ORIGINAL_INTEREST_RATE  -0.030357       -0.198853        0.203123  \n",
       "NUMBER_OF_BORROWERS      0.023088        0.073367       -0.103183  \n",
       "OCCUPANCY_STATUS_P       0.010546        0.039091       -0.084439  \n",
       "OCCUPANCY_STATUS_S       0.007972       -0.001899        0.055572  \n",
       "CHANNEL_C               -0.691582       -0.025420        0.048704  \n",
       "CHANNEL_R                1.000000        0.012917       -0.041285  \n",
       "LOAN_PURPOSE_N           0.012917        1.000000       -0.534219  \n",
       "LOAN_PURPOSE_P          -0.041285       -0.534219        1.000000  "
      ]
     },
     "execution_count": 56,
     "metadata": {},
     "output_type": "execute_result"
    }
   ],
   "source": [
    "data_dummy.corr()"
   ]
  },
  {
   "cell_type": "markdown",
   "id": "66c5c7aa-e692-4251-8850-65903b0f08f0",
   "metadata": {},
   "source": [
    "##### There is no obvious correlation in variables"
   ]
  },
  {
   "cell_type": "markdown",
   "id": "f27f52db-425a-46f0-8dee-de353213762b",
   "metadata": {},
   "source": [
    "### Second Part: Data modeling"
   ]
  },
  {
   "cell_type": "code",
   "execution_count": 15,
   "id": "fdc788b6-ba78-44aa-9986-89ba29ee8059",
   "metadata": {},
   "outputs": [],
   "source": [
    "data=pd.read_csv('data_dummy')"
   ]
  },
  {
   "cell_type": "code",
   "execution_count": 3,
   "id": "2cd443e4-8821-45c5-8bc6-99adff0e3a6c",
   "metadata": {},
   "outputs": [],
   "source": [
    "# data=data[['CREDIT_SCORE', 'FIRST_TIME_HOMEBUYER_FLAG', 'MSA', 'MI',\n",
    "#        'NUMBER_OF_UNITS',  'ORIGINAL_DTI', 'ORIGINAL_UPB',  'PPM_FLAG',\n",
    "#        'NUMBER_OF_BORROWERS', 'SUPER_CONFORMING_FLAG', 'delinLabel']]"
   ]
  },
  {
   "cell_type": "code",
   "execution_count": 16,
   "id": "e9a8343e-5430-4489-941a-9207805c1c26",
   "metadata": {},
   "outputs": [],
   "source": [
    "# split data into training data and testing data\n",
    "from sklearn.model_selection import train_test_split\n",
    "y=data.copy()['delinLabel']\n",
    "X=data.copy()\n",
    "X.drop('delinLabel',axis=1,inplace=True)\n",
    "X_train, X_test, y_train, y_test = train_test_split(X, y, test_size=0.60)"
   ]
  },
  {
   "cell_type": "markdown",
   "id": "0c01a3cf-9a8c-42fc-ac90-523037aab836",
   "metadata": {},
   "source": [
    "##### Run a default logistic regression model"
   ]
  },
  {
   "cell_type": "code",
   "execution_count": 17,
   "id": "19036e12-38dc-44ee-b331-d8cf17e5d91a",
   "metadata": {},
   "outputs": [],
   "source": [
    "from sklearn.linear_model import LogisticRegression\n",
    "logmodel = LogisticRegression()\n",
    "logmodel.fit(X_train,y_train)\n",
    "predictions = logmodel.predict(X_test)"
   ]
  },
  {
   "cell_type": "code",
   "execution_count": 18,
   "id": "4992e98b-ae16-4f2b-89ae-a5450ed4a876",
   "metadata": {},
   "outputs": [
    {
     "name": "stdout",
     "output_type": "stream",
     "text": [
      "              precision    recall  f1-score   support\n",
      "\n",
      "           0       0.99      1.00      1.00     28926\n",
      "           1       0.00      0.00      0.00       206\n",
      "\n",
      "    accuracy                           0.99     29132\n",
      "   macro avg       0.50      0.50      0.50     29132\n",
      "weighted avg       0.99      0.99      0.99     29132\n",
      "\n"
     ]
    },
    {
     "name": "stderr",
     "output_type": "stream",
     "text": [
      "C:\\Installs\\anaconda\\lib\\site-packages\\sklearn\\metrics\\_classification.py:1344: UndefinedMetricWarning: Precision and F-score are ill-defined and being set to 0.0 in labels with no predicted samples. Use `zero_division` parameter to control this behavior.\n",
      "  _warn_prf(average, modifier, msg_start, len(result))\n",
      "C:\\Installs\\anaconda\\lib\\site-packages\\sklearn\\metrics\\_classification.py:1344: UndefinedMetricWarning: Precision and F-score are ill-defined and being set to 0.0 in labels with no predicted samples. Use `zero_division` parameter to control this behavior.\n",
      "  _warn_prf(average, modifier, msg_start, len(result))\n",
      "C:\\Installs\\anaconda\\lib\\site-packages\\sklearn\\metrics\\_classification.py:1344: UndefinedMetricWarning: Precision and F-score are ill-defined and being set to 0.0 in labels with no predicted samples. Use `zero_division` parameter to control this behavior.\n",
      "  _warn_prf(average, modifier, msg_start, len(result))\n"
     ]
    },
    {
     "data": {
      "text/plain": [
       "array([[28926,     0],\n",
       "       [  206,     0]], dtype=int64)"
      ]
     },
     "execution_count": 18,
     "metadata": {},
     "output_type": "execute_result"
    }
   ],
   "source": [
    "# evaluation\n",
    "from sklearn.metrics import classification_report\n",
    "print(classification_report(y_test,predictions))\n",
    "from sklearn.metrics import confusion_matrix\n",
    "confusion_matrix(y_test,predictions)"
   ]
  },
  {
   "cell_type": "markdown",
   "id": "a624432b-b4a0-43fb-81c1-92bfeca19e59",
   "metadata": {},
   "source": [
    "* We run a default logistic regression model, the report and confusion metric shows that the modle simply predict every loan will not be delinquency.\n",
    "* This is because the delinquency data is a very small portion of whole data. \n",
    "* Next step we will try to solve this problem by rebalance the data."
   ]
  },
  {
   "cell_type": "markdown",
   "id": "95172899-d74a-4809-b173-dd3b44eeaeab",
   "metadata": {},
   "source": []
  },
  {
   "cell_type": "markdown",
   "id": "1d4166db-ed2f-46e5-8049-521534898d36",
   "metadata": {},
   "source": [
    "#### Rebalance data (under sample class 0) \n"
   ]
  },
  {
   "cell_type": "code",
   "execution_count": 19,
   "id": "47ad9e32-be8a-4fd3-a333-da86b80129ba",
   "metadata": {},
   "outputs": [],
   "source": [
    "d=pd.concat([X,y],axis=1)\n",
    "count_class_0, count_class_1 = d.delinLabel.value_counts()\n",
    "df_class_0 = d[d['delinLabel'] == 0]\n",
    "df_class_1 = d[d['delinLabel'] == 1]"
   ]
  },
  {
   "cell_type": "code",
   "execution_count": 20,
   "id": "70ff34c7-2446-472f-a299-08c41351c311",
   "metadata": {},
   "outputs": [],
   "source": [
    "# under sample class 0\n",
    "df_class_0_under = df_class_0.sample(count_class_1)\n",
    "d_rebalanced = pd.concat([df_class_0_under, df_class_1], axis=0)"
   ]
  },
  {
   "cell_type": "code",
   "execution_count": 21,
   "id": "498a0a6b-1cc9-4681-bf06-52bbc3f42b8a",
   "metadata": {},
   "outputs": [
    {
     "data": {
      "text/plain": [
       "<AxesSubplot:title={'center':'Count (target)'}>"
      ]
     },
     "execution_count": 21,
     "metadata": {},
     "output_type": "execute_result"
    },
    {
     "data": {
      "image/png": "[encoded data removed]",
      "text/plain": [
       "<Figure size 432x288 with 1 Axes>"
      ]
     },
     "metadata": {
      "needs_background": "light"
     },
     "output_type": "display_data"
    }
   ],
   "source": [
    "# the rebalanced data has uniform distribution of delinLabel\n",
    "d_rebalanced.delinLabel.value_counts().plot(kind='bar', title='Count (target)')"
   ]
  },
  {
   "cell_type": "markdown",
   "id": "485d1932-9f4d-4c08-aaa5-bf29e9d0d449",
   "metadata": {},
   "source": [
    "### bootstrapping data into training and testing datasets\n",
    "After data rebalancing, the size of data become smaller. So I apply boostrapping method which is suitable for small dataset"
   ]
  },
  {
   "cell_type": "code",
   "execution_count": 29,
   "id": "7aa18a52-de04-4186-af63-5ed0b9cd62d1",
   "metadata": {},
   "outputs": [],
   "source": [
    "temp_sample = np.random.choice(list(range(len(d_rebalanced))), replace=True, size=len(d_rebalanced))\n",
    "test_index=[i for i in list(range(len(d_rebalanced))) if i not in temp_sample]\n",
    "train_index=[i for i in list(range(len(d_rebalanced))) if i not in test_index]"
   ]
  },
  {
   "cell_type": "code",
   "execution_count": 30,
   "id": "9489509a-e8e0-4e8b-98b0-a2f52da33e1a",
   "metadata": {},
   "outputs": [],
   "source": [
    "columns=['CREDIT_SCORE', 'FIRST_TIME_HOMEBUYER_FLAG', 'MSA', 'MI',\n",
    "       'NUMBER_OF_UNITS', 'CLTV', 'ORIGINAL_DTI', 'ORIGINAL_UPB',\n",
    "       'ORIGINAL_LTV', 'ORIGINAL_INTEREST_RATE', 'PPM_FLAG',\n",
    "       'NUMBER_OF_BORROWERS', 'SUPER_CONFORMING_FLAG', \n",
    "       'OCCUPANCY_STATUS_P', 'OCCUPANCY_STATUS_S', 'CHANNEL_C', 'CHANNEL_R',\n",
    "       'LOAN_PURPOSE_N', 'LOAN_PURPOSE_P']\n",
    "X_train=d_rebalanced.iloc[train_index][columns]\n",
    "y_train=d_rebalanced.iloc[train_index]['delinLabel']\n",
    "X_test=d_rebalanced.iloc[test_index][columns]\n",
    "y_test=d_rebalanced.iloc[test_index]['delinLabel']"
   ]
  },
  {
   "cell_type": "code",
   "execution_count": 31,
   "id": "0f879bc6-ff15-4cb6-9b63-fe84c2c26396",
   "metadata": {},
   "outputs": [],
   "source": [
    "# run model again\n",
    "from sklearn.linear_model import LogisticRegression\n",
    "logmodel = LogisticRegression()\n",
    "logmodel.fit(X_train,y_train)\n",
    "predictions = logmodel.predict(X_test)"
   ]
  },
  {
   "cell_type": "code",
   "execution_count": 32,
   "id": "7f7aa61e-f80c-4a9c-bdb8-5e5406748f08",
   "metadata": {},
   "outputs": [
    {
     "name": "stdout",
     "output_type": "stream",
     "text": [
      "              precision    recall  f1-score   support\n",
      "\n",
      "           0       0.74      0.73      0.73       117\n",
      "           1       0.73      0.74      0.73       115\n",
      "\n",
      "    accuracy                           0.73       232\n",
      "   macro avg       0.73      0.73      0.73       232\n",
      "weighted avg       0.73      0.73      0.73       232\n",
      "\n"
     ]
    },
    {
     "data": {
      "text/plain": [
       "array([[85, 32],\n",
       "       [30, 85]], dtype=int64)"
      ]
     },
     "execution_count": 32,
     "metadata": {},
     "output_type": "execute_result"
    }
   ],
   "source": [
    "# evaluation\n",
    "from sklearn.metrics import classification_report\n",
    "print(classification_report(y_test,predictions))\n",
    "from sklearn.metrics import confusion_matrix\n",
    "confusion_matrix(y_test,predictions)"
   ]
  },
  {
   "cell_type": "markdown",
   "id": "d574b018-dd2c-4723-91b2-b76f9cfff06c",
   "metadata": {},
   "source": [
    "#### Conclusion: \n",
    "The result is better, the model begins to capture the delinquency pattern from the features and build model. But the performance is only 20% higher than 50%. It's far from good. The reason might be the dataset is still too small after rebalaning."
   ]
  },
  {
   "cell_type": "markdown",
   "id": "0ab2ca4c-1d7d-4695-97aa-10be14ee43fb",
   "metadata": {},
   "source": [
    "#### Interpreting the coefficient of the model"
   ]
  },
  {
   "cell_type": "code",
   "execution_count": 33,
   "id": "6f331a5b-073c-4b11-84f2-865c25abf785",
   "metadata": {},
   "outputs": [
    {
     "name": "stdout",
     "output_type": "stream",
     "text": [
      "                     Variable   Coefficient\n",
      "0                CREDIT_SCORE -9.036650e-03\n",
      "1   FIRST_TIME_HOMEBUYER_FLAG -7.065357e-04\n",
      "2                         MSA  2.283706e-04\n",
      "3                          MI  6.787870e-05\n",
      "4             NUMBER_OF_UNITS  1.756443e-04\n",
      "5                        CLTV  2.294141e-02\n",
      "6                ORIGINAL_DTI  8.512943e-02\n",
      "7                ORIGINAL_UPB -4.381409e-08\n",
      "8                ORIGINAL_LTV  2.581124e-02\n",
      "9      ORIGINAL_INTEREST_RATE  4.159831e-03\n",
      "10                   PPM_FLAG  9.277137e-05\n",
      "11        NUMBER_OF_BORROWERS -1.608968e-03\n",
      "12      SUPER_CONFORMING_FLAG -8.892547e-05\n",
      "13         OCCUPANCY_STATUS_P  8.912031e-04\n",
      "14         OCCUPANCY_STATUS_S -3.824636e-04\n",
      "15                  CHANNEL_C  4.884964e-04\n",
      "16                  CHANNEL_R -1.191511e-03\n",
      "17             LOAN_PURPOSE_N -1.708410e-04\n",
      "18             LOAN_PURPOSE_P -1.625945e-03\n"
     ]
    }
   ],
   "source": [
    "# Create a list of original variable names from the training DataFrame\n",
    "original_variables = X_train.columns\n",
    "\n",
    "# Extract the coefficients of the logistic regression estimator\n",
    "model_coefficients = logmodel.coef_[0]\n",
    "\n",
    "# Create a dataframe of the variables and coefficients & print it out\n",
    "coefficient_df = pd.DataFrame({\"Variable\" : original_variables, \"Coefficient\": model_coefficients})\n",
    "\n",
    "print(coefficient_df)"
   ]
  },
  {
   "cell_type": "markdown",
   "id": "1378425c-0d9b-4b19-9a38-f9accfae5f9f",
   "metadata": {},
   "source": [
    "From the coefficient of the model, we can find the higher the credit score and number of borrowers the lower the probability of delinquency is.\n",
    "If the borrower is first time home buyer, the loan is from retail, the loan purpose is refinance with on cash out, the probability of delinquency is lower."
   ]
  },
  {
   "cell_type": "markdown",
   "id": "e14a57eb-8076-473e-9839-a599811f7fd6",
   "metadata": {},
   "source": [
    "### Use SMOTE technology to solve the class imbalance problem "
   ]
  },
  {
   "cell_type": "markdown",
   "id": "b4578f29-3a2b-4a4e-8725-a570fa8e2163",
   "metadata": {},
   "source": [
    "After the data rebalance process, the performance of the model is still not ideal.\n",
    "Next step I tried to use SMOTE technology.\n",
    "\n",
    "\n",
    "SMOTE is referred to as the Synthetic Minority Oversampling Technique which oversample the examples in the minority class by synthesizing new examples from the minority class. \n",
    "\n",
    "It works by selecting examples that are close in the feature space, drawing a line between the examples in the feature space and drawing a new sample at a point along that line. Specifically, a random example from the minority class is first chosen. Then k of the nearest neighbors for that example are found (typically k=5). A randomly selected neighbor is chosen and a synthetic example is created at a randomly selected point between the two examples in feature space."
   ]
  },
  {
   "cell_type": "code",
   "execution_count": 35,
   "id": "10326287-2e1d-4e3a-9f47-c6f16fcdd9b2",
   "metadata": {},
   "outputs": [],
   "source": [
    "\n",
    "y=data.copy()\n",
    "y=y.delinLabel\n",
    "X=data.copy()\n",
    "X.drop('delinLabel',axis=1,inplace=True)"
   ]
  },
  {
   "cell_type": "code",
   "execution_count": 36,
   "id": "9d1d55b3-b7a9-42ef-a802-5455dc98172d",
   "metadata": {},
   "outputs": [],
   "source": [
    "# define pipeline\n",
    "over=SMOTE(sampling_strategy=0.1)\n",
    "under=RandomUnderSampler(sampling_strategy=0.5)\n",
    "model=LogisticRegression()\n",
    "steps=[('o',over),('u', under),('m',model)]\n",
    "pipeline=Pipeline(steps=steps)"
   ]
  },
  {
   "cell_type": "code",
   "execution_count": 39,
   "id": "2e8068da-af08-4b66-9ca3-74a5178a1baa",
   "metadata": {},
   "outputs": [
    {
     "data": {
      "text/plain": [
       "array([0.87067545, 0.85275947, 0.84740527, 0.85272915, 0.86096807,\n",
       "       0.86549949, 0.85664264, 0.85025747, 0.8523172 , 0.85643666,\n",
       "       0.84987644, 0.85687809, 0.85873147, 0.85499485, 0.84552008,\n",
       "       0.89989701, 0.86035015, 0.84716787, 0.86343975, 0.84696189,\n",
       "       0.85996705, 0.84884679, 0.85008237, 0.87044284, 0.85932029,\n",
       "       0.87312049, 0.85087539, 0.85066941, 0.84572606, 0.86426365])"
      ]
     },
     "execution_count": 39,
     "metadata": {},
     "output_type": "execute_result"
    }
   ],
   "source": [
    "# evaluate pipeline by 10 fold cross validation\n",
    "cv = RepeatedStratifiedKFold(n_splits=10, n_repeats=3, random_state=1)\n",
    "scores = cross_val_score(pipeline, X, y, scoring='accuracy', cv=cv, n_jobs=-1)\n",
    "scores"
   ]
  },
  {
   "cell_type": "code",
   "execution_count": 40,
   "id": "768ce031-d86a-4223-bea3-f018538896d3",
   "metadata": {},
   "outputs": [
    {
     "data": {
      "text/plain": [
       "0.857427427240609"
      ]
     },
     "execution_count": 40,
     "metadata": {},
     "output_type": "execute_result"
    }
   ],
   "source": [
    "scores.mean()"
   ]
  },
  {
   "cell_type": "markdown",
   "id": "e835bdbe-87df-4c1b-886e-3eaf7435f663",
   "metadata": {},
   "source": [
    "We can see the performance of the model is dramatically improved."
   ]
  },
  {
   "cell_type": "code",
   "execution_count": null,
   "id": "0dd4bdc5-7605-45f2-940a-2e33b11d3218",
   "metadata": {},
   "outputs": [],
   "source": []
  },
  {
   "cell_type": "code",
   "execution_count": null,
   "id": "80cfe98e-7fc1-439d-9271-111e7ef69b56",
   "metadata": {},
   "outputs": [],
   "source": []
  },
  {
   "cell_type": "code",
   "execution_count": null,
   "id": "7f32ec82-8ec0-46d2-8989-fa4ed437d036",
   "metadata": {},
   "outputs": [],
   "source": []
  },
  {
   "cell_type": "code",
   "execution_count": null,
   "id": "69ca24fd-4b6c-4c4c-813a-ab17ee4fe7dd",
   "metadata": {},
   "outputs": [],
   "source": []
  },
  {
   "cell_type": "code",
   "execution_count": null,
   "id": "43508c37-6425-4d5b-a5b2-01b986fcd1f0",
   "metadata": {},
   "outputs": [],
   "source": []
  },
  {
   "cell_type": "code",
   "execution_count": null,
   "id": "a33b5027-738a-4cf6-8523-65e036cc1263",
   "metadata": {},
   "outputs": [],
   "source": []
  },
  {
   "cell_type": "code",
   "execution_count": null,
   "id": "a4a3887b-6065-4475-8479-dd4b9fed0ddc",
   "metadata": {},
   "outputs": [],
   "source": []
  },
  {
   "cell_type": "code",
   "execution_count": null,
   "id": "ab893065-cb33-4069-bab0-1a33634f3284",
   "metadata": {},
   "outputs": [],
   "source": []
  },
  {
   "cell_type": "code",
   "execution_count": null,
   "id": "aef9672a-95a0-4ede-a06f-c00e1f22772c",
   "metadata": {},
   "outputs": [],
   "source": []
  },
  {
   "cell_type": "code",
   "execution_count": null,
   "id": "1dda2cf9-0f4e-4639-ad6b-527513666161",
   "metadata": {},
   "outputs": [],
   "source": []
  },
  {
   "cell_type": "code",
   "execution_count": null,
   "id": "13a32f3e-3bb7-4922-b7bc-9390aa6696e2",
   "metadata": {},
   "outputs": [],
   "source": []
  },
  {
   "cell_type": "code",
   "execution_count": null,
   "id": "3c798927-f9b7-4763-a9f3-4f2f307b6bd0",
   "metadata": {},
   "outputs": [],
   "source": []
  },
  {
   "cell_type": "code",
   "execution_count": null,
   "id": "2afeefa3-4e37-4df5-a6c3-47a1f293a671",
   "metadata": {},
   "outputs": [],
   "source": []
  },
  {
   "cell_type": "markdown",
   "id": "99e0e395-4845-4f13-af62-f39024d76825",
   "metadata": {},
   "source": [
    "We can see variable CLTV (ORIGINAL COMBINED LOAN-TO-VALUE),LTV (ORIGINAL LOAN-TO-VALUE) have very high VIF score. This makes sense since they are quite similar based on definition.CREDIT_SCORE and ORIGINAL_INTEREST_RATE also have very high VIF score. Since the higher the credit score is, the lower the interest rate\n",
    "\n",
    "\n",
    "We will remove variables that have VIF score higher than 20."
   ]
  },
  {
   "cell_type": "markdown",
   "id": "b446da44-897e-40ec-9445-47a95452d3c4",
   "metadata": {},
   "source": [
    "#### Modeling"
   ]
  },
  {
   "cell_type": "code",
   "execution_count": 138,
   "id": "aae5bcdb-444f-46d9-8ea1-7fd7f5619a7d",
   "metadata": {},
   "outputs": [],
   "source": [
    "# data_m=data_dummy[[ 'FIRST_TIME_HOMEBUYER_FLAG', 'MSA', 'MI','NUMBER_OF_UNITS', 'ORIGINAL_DTI', 'ORIGINAL_UPB',\n",
    "#          'PPM_FLAG','NUMBER_OF_BORROWERS', 'SUPER_CONFORMING_FLAG', 'delinLabel',  'OCCUPANCY_STATUS_S','CHANNEL_C',\n",
    "#          'CHANNEL_R', 'LOAN_PURPOSE_N', 'LOAN_PURPOSE_P']]\n",
    "# #data_m=data_dummy"
   ]
  },
  {
   "cell_type": "code",
   "execution_count": 139,
   "id": "b941b103-bcaa-4369-919c-01412b859ef9",
   "metadata": {},
   "outputs": [],
   "source": [
    "y=data_m.copy()['delinLabel']\n",
    "X=data_m.copy()\n",
    "X.drop('delinLabel',axis=1,inplace=True)"
   ]
  },
  {
   "cell_type": "code",
   "execution_count": 140,
   "id": "4ff3157e-a2aa-4024-9948-1f85c7a6a9b6",
   "metadata": {},
   "outputs": [],
   "source": [
    "from sklearn.model_selection import train_test_split\n",
    "X_train, X_test, y_train, y_test = train_test_split(X, y, test_size=0.60)"
   ]
  },
  {
   "cell_type": "code",
   "execution_count": 135,
   "id": "97a54f07-1322-4794-81dd-d0e3c4758baf",
   "metadata": {},
   "outputs": [
    {
     "data": {
      "text/plain": [
       "(48553, 19)"
      ]
     },
     "execution_count": 135,
     "metadata": {},
     "output_type": "execute_result"
    }
   ],
   "source": [
    "X.shape"
   ]
  },
  {
   "cell_type": "code",
   "execution_count": 137,
   "id": "f1e6bbf2-d892-4afe-9fdb-3236349a85e8",
   "metadata": {},
   "outputs": [
    {
     "data": {
      "text/plain": [
       "(48553,)"
      ]
     },
     "execution_count": 137,
     "metadata": {},
     "output_type": "execute_result"
    }
   ],
   "source": [
    "y.shape"
   ]
  },
  {
   "cell_type": "code",
   "execution_count": 142,
   "id": "ee7fcc90-79c6-4dcc-ab46-a5cbb6c0c4ee",
   "metadata": {},
   "outputs": [],
   "source": [
    "\n",
    "from sklearn.model_selection import train_test_split\n",
    "X_train, X_test, y_train, y_test = train_test_split(data_dummy.drop('delinLabel',axis=1), \n",
    "                                                    data_dummy['delinLabel'], test_size=0.60, \n",
    "                                                    random_state=101)"
   ]
  },
  {
   "cell_type": "code",
   "execution_count": 145,
   "id": "53236ab9-919a-4251-b5de-bd78aff880f0",
   "metadata": {},
   "outputs": [
    {
     "ename": "ValueError",
     "evalue": "Unknown label type: 'unknown'",
     "output_type": "error",
     "traceback": [
      "\u001b[1;31m---------------------------------------------------------------------------\u001b[0m",
      "\u001b[1;31mValueError\u001b[0m                                Traceback (most recent call last)",
      "\u001b[1;32m<ipython-input-145-c8ed7ceba68d>\u001b[0m in \u001b[0;36m<module>\u001b[1;34m\u001b[0m\n\u001b[0;32m      1\u001b[0m \u001b[1;32mfrom\u001b[0m \u001b[0msklearn\u001b[0m\u001b[1;33m.\u001b[0m\u001b[0mlinear_model\u001b[0m \u001b[1;32mimport\u001b[0m \u001b[0mLogisticRegression\u001b[0m\u001b[1;33m\u001b[0m\u001b[1;33m\u001b[0m\u001b[0m\n\u001b[0;32m      2\u001b[0m \u001b[0mlogmodel\u001b[0m \u001b[1;33m=\u001b[0m \u001b[0mLogisticRegression\u001b[0m\u001b[1;33m(\u001b[0m\u001b[1;33m)\u001b[0m\u001b[1;33m\u001b[0m\u001b[1;33m\u001b[0m\u001b[0m\n\u001b[1;32m----> 3\u001b[1;33m \u001b[0mlogmodel\u001b[0m\u001b[1;33m.\u001b[0m\u001b[0mfit\u001b[0m\u001b[1;33m(\u001b[0m\u001b[0mX_train\u001b[0m\u001b[1;33m,\u001b[0m\u001b[0my_train\u001b[0m\u001b[1;33m)\u001b[0m\u001b[1;33m\u001b[0m\u001b[1;33m\u001b[0m\u001b[0m\n\u001b[0m",
      "\u001b[1;32mC:\\Installs\\anaconda\\lib\\site-packages\\sklearn\\linear_model\\_logistic.py\u001b[0m in \u001b[0;36mfit\u001b[1;34m(self, X, y, sample_weight)\u001b[0m\n\u001b[0;32m   1202\u001b[0m             \u001b[0maccept_large_sparse\u001b[0m\u001b[1;33m=\u001b[0m\u001b[0msolver\u001b[0m \u001b[1;32mnot\u001b[0m \u001b[1;32min\u001b[0m \u001b[1;33m[\u001b[0m\u001b[1;34m\"liblinear\"\u001b[0m\u001b[1;33m,\u001b[0m \u001b[1;34m\"sag\"\u001b[0m\u001b[1;33m,\u001b[0m \u001b[1;34m\"saga\"\u001b[0m\u001b[1;33m]\u001b[0m\u001b[1;33m,\u001b[0m\u001b[1;33m\u001b[0m\u001b[1;33m\u001b[0m\u001b[0m\n\u001b[0;32m   1203\u001b[0m         )\n\u001b[1;32m-> 1204\u001b[1;33m         \u001b[0mcheck_classification_targets\u001b[0m\u001b[1;33m(\u001b[0m\u001b[0my\u001b[0m\u001b[1;33m)\u001b[0m\u001b[1;33m\u001b[0m\u001b[1;33m\u001b[0m\u001b[0m\n\u001b[0m\u001b[0;32m   1205\u001b[0m         \u001b[0mself\u001b[0m\u001b[1;33m.\u001b[0m\u001b[0mclasses_\u001b[0m \u001b[1;33m=\u001b[0m \u001b[0mnp\u001b[0m\u001b[1;33m.\u001b[0m\u001b[0munique\u001b[0m\u001b[1;33m(\u001b[0m\u001b[0my\u001b[0m\u001b[1;33m)\u001b[0m\u001b[1;33m\u001b[0m\u001b[1;33m\u001b[0m\u001b[0m\n\u001b[0;32m   1206\u001b[0m \u001b[1;33m\u001b[0m\u001b[0m\n",
      "\u001b[1;32mC:\\Installs\\anaconda\\lib\\site-packages\\sklearn\\utils\\multiclass.py\u001b[0m in \u001b[0;36mcheck_classification_targets\u001b[1;34m(y)\u001b[0m\n\u001b[0;32m    205\u001b[0m         \u001b[1;34m\"multilabel-sequences\"\u001b[0m\u001b[1;33m,\u001b[0m\u001b[1;33m\u001b[0m\u001b[1;33m\u001b[0m\u001b[0m\n\u001b[0;32m    206\u001b[0m     ]:\n\u001b[1;32m--> 207\u001b[1;33m         \u001b[1;32mraise\u001b[0m \u001b[0mValueError\u001b[0m\u001b[1;33m(\u001b[0m\u001b[1;34m\"Unknown label type: %r\"\u001b[0m \u001b[1;33m%\u001b[0m \u001b[0my_type\u001b[0m\u001b[1;33m)\u001b[0m\u001b[1;33m\u001b[0m\u001b[1;33m\u001b[0m\u001b[0m\n\u001b[0m\u001b[0;32m    208\u001b[0m \u001b[1;33m\u001b[0m\u001b[0m\n\u001b[0;32m    209\u001b[0m \u001b[1;33m\u001b[0m\u001b[0m\n",
      "\u001b[1;31mValueError\u001b[0m: Unknown label type: 'unknown'"
     ]
    }
   ],
   "source": [
    "from sklearn.linear_model import LogisticRegression\n",
    "logmodel = LogisticRegression()\n",
    "logmodel.fit(X_train,y_train)"
   ]
  },
  {
   "cell_type": "code",
   "execution_count": 94,
   "id": "49eb1a32-a354-4f6b-87e4-50da690af2b0",
   "metadata": {},
   "outputs": [
    {
     "data": {
      "text/plain": [
       "array([[28948,     0],\n",
       "       [  184,     0]], dtype=int64)"
      ]
     },
     "execution_count": 94,
     "metadata": {},
     "output_type": "execute_result"
    }
   ],
   "source": [
    "from sklearn.metrics import confusion_matrix\n",
    "confusion_matrix(y_test,predictions)"
   ]
  },
  {
   "cell_type": "markdown",
   "id": "ddaad443-8347-4a1d-9d76-5b421cbf6488",
   "metadata": {},
   "source": [
    "* We run a default logistic regression model, the report and confusion metric shows that the modle simply predict every loan will not be delinquency.\n",
    "* This is because the delinquency data is a very small portion of data. \n",
    "* Next step we will try to solve this problem by rebalance the data."
   ]
  },
  {
   "cell_type": "code",
   "execution_count": null,
   "id": "24193690-1963-4d82-9d37-00323c6d1e15",
   "metadata": {},
   "outputs": [],
   "source": [
    "##### rebalance the data"
   ]
  },
  {
   "cell_type": "code",
   "execution_count": 130,
   "id": "e80832a2-7170-447c-940e-0bc13fa03f14",
   "metadata": {},
   "outputs": [],
   "source": [
    "d=pd.concat([X,y],axis=1)"
   ]
  },
  {
   "cell_type": "code",
   "execution_count": 131,
   "id": "151989aa-3d6f-42c8-9e6f-b645c9fc3d15",
   "metadata": {},
   "outputs": [
    {
     "data": {
      "text/plain": [
       "<AxesSubplot:title={'center':'Count (target)'}>"
      ]
     },
     "execution_count": 131,
     "metadata": {},
     "output_type": "execute_result"
    },
    {
     "data": {
      "image/png": "[encoded data removed]",
      "text/plain": [
       "<Figure size 432x288 with 1 Axes>"
      ]
     },
     "metadata": {
      "needs_background": "light"
     },
     "output_type": "display_data"
    }
   ],
   "source": [
    "count_class_0, count_class_1 = d.delinLabel.value_counts()\n",
    "df_class_0 = d[d['delinLabel'] == 0]\n",
    "df_class_1 = d[d['delinLabel'] == 1]\n",
    "# under sample class 0\n",
    "df_class_0_under = df_class_0.sample(count_class_1)\n",
    "d_rebalanced = pd.concat([df_class_0_under, df_class_1], axis=0)\n",
    "# the rebalanced data has uniform distribution of delinLabel\n",
    "d_rebalanced.delinLabel.value_counts().plot(kind='bar', title='Count (target)')"
   ]
  },
  {
   "cell_type": "code",
   "execution_count": null,
   "id": "217192e9-4858-4802-89b0-78debf1f603b",
   "metadata": {},
   "outputs": [],
   "source": [
    "### boostrapping data into training and testing datasets"
   ]
  },
  {
   "cell_type": "code",
   "execution_count": 132,
   "id": "99444585-c762-49d2-a727-5d4220afd9db",
   "metadata": {},
   "outputs": [],
   "source": [
    "temp_sample = np.random.choice(list(range(len(d_rebalanced))), replace=True, size=len(d_rebalanced))\n",
    "test_index=[i for i in list(range(len(d_rebalanced))) if i not in temp_sample]\n",
    "train_index=[i for i in list(range(len(d_rebalanced))) if i not in test_index]"
   ]
  },
  {
   "cell_type": "code",
   "execution_count": 133,
   "id": "fb5822b7-082d-4382-9e4e-4dd72988aeca",
   "metadata": {},
   "outputs": [],
   "source": [
    "columns=['FIRST_TIME_HOMEBUYER_FLAG', 'MSA', 'MI','NUMBER_OF_UNITS', 'ORIGINAL_DTI', 'ORIGINAL_UPB',\n",
    "        'PPM_FLAG','NUMBER_OF_BORROWERS', 'SUPER_CONFORMING_FLAG', 'delinLabel',  'OCCUPANCY_STATUS_S','CHANNEL_C',\n",
    "        'CHANNEL_R', 'LOAN_PURPOSE_N', 'LOAN_PURPOSE_P']\n",
    "X_train=d_rebalanced.iloc[train_index][columns]\n",
    "y_train=d_rebalanced.iloc[train_index]['delinLabel']\n",
    "X_test=d_rebalanced.iloc[test_index][columns]\n",
    "y_test=d_rebalanced.iloc[test_index]['delinLabel']"
   ]
  },
  {
   "cell_type": "code",
   "execution_count": 104,
   "id": "f0d82823-ebf8-45f0-b77c-8aa30b061a9b",
   "metadata": {},
   "outputs": [
    {
     "name": "stdout",
     "output_type": "stream",
     "text": [
      "              precision    recall  f1-score   support\n",
      "\n",
      "         0.0       0.00      0.00      0.00       132\n",
      "         1.0       0.48      1.00      0.65       122\n",
      "\n",
      "    accuracy                           0.48       254\n",
      "   macro avg       0.24      0.50      0.32       254\n",
      "weighted avg       0.23      0.48      0.31       254\n",
      "\n"
     ]
    },
    {
     "name": "stderr",
     "output_type": "stream",
     "text": [
      "C:\\Installs\\anaconda\\lib\\site-packages\\sklearn\\metrics\\_classification.py:1344: UndefinedMetricWarning: Precision and F-score are ill-defined and being set to 0.0 in labels with no predicted samples. Use `zero_division` parameter to control this behavior.\n",
      "  _warn_prf(average, modifier, msg_start, len(result))\n",
      "C:\\Installs\\anaconda\\lib\\site-packages\\sklearn\\metrics\\_classification.py:1344: UndefinedMetricWarning: Precision and F-score are ill-defined and being set to 0.0 in labels with no predicted samples. Use `zero_division` parameter to control this behavior.\n",
      "  _warn_prf(average, modifier, msg_start, len(result))\n",
      "C:\\Installs\\anaconda\\lib\\site-packages\\sklearn\\metrics\\_classification.py:1344: UndefinedMetricWarning: Precision and F-score are ill-defined and being set to 0.0 in labels with no predicted samples. Use `zero_division` parameter to control this behavior.\n",
      "  _warn_prf(average, modifier, msg_start, len(result))\n"
     ]
    },
    {
     "data": {
      "text/plain": [
       "array([[  0, 132],\n",
       "       [  0, 122]], dtype=int64)"
      ]
     },
     "execution_count": 104,
     "metadata": {},
     "output_type": "execute_result"
    }
   ],
   "source": [
    "from sklearn.linear_model import LogisticRegression\n",
    "logmodel = LogisticRegression()\n",
    "logmodel.fit(X_train,y_train)\n",
    "predictions = logmodel.predict(X_test)\n",
    "from sklearn.metrics import classification_report\n",
    "print(classification_report(y_test,predictions))\n",
    "from sklearn.metrics import confusion_matrix\n",
    "confusion_matrix(y_test,predictions)"
   ]
  },
  {
   "cell_type": "code",
   "execution_count": null,
   "id": "5b901bac-2aec-41d6-aa95-a99574c78530",
   "metadata": {},
   "outputs": [],
   "source": []
  },
  {
   "cell_type": "code",
   "execution_count": null,
   "id": "a173d66c-d66b-43a6-81b4-91161b655753",
   "metadata": {},
   "outputs": [],
   "source": []
  },
  {
   "cell_type": "code",
   "execution_count": null,
   "id": "36a64489-465d-4e96-bed0-7dabed208f1c",
   "metadata": {},
   "outputs": [],
   "source": []
  },
  {
   "cell_type": "code",
   "execution_count": null,
   "id": "b83cae87-190c-4a36-aaaa-092793b10e0a",
   "metadata": {},
   "outputs": [],
   "source": []
  },
  {
   "cell_type": "code",
   "execution_count": null,
   "id": "320737de-9f5c-49a3-83f2-0fe61949c1c8",
   "metadata": {},
   "outputs": [],
   "source": []
  },
  {
   "cell_type": "code",
   "execution_count": null,
   "id": "242f16c8-96b0-4d3c-a836-e6ea652c3a71",
   "metadata": {},
   "outputs": [],
   "source": []
  },
  {
   "cell_type": "code",
   "execution_count": null,
   "id": "bc897b1b-f3fa-4a61-b4d0-820dc1febebe",
   "metadata": {},
   "outputs": [],
   "source": []
  },
  {
   "cell_type": "code",
   "execution_count": null,
   "id": "b3517e3f-7611-45fe-a280-f498c8931fbf",
   "metadata": {},
   "outputs": [],
   "source": []
  },
  {
   "cell_type": "code",
   "execution_count": null,
   "id": "e942859b-8cfc-4c58-b76e-7cadf80c23b8",
   "metadata": {},
   "outputs": [],
   "source": []
  },
  {
   "cell_type": "code",
   "execution_count": 66,
   "id": "3e725a83-c553-44d0-87b9-497a99a4f208",
   "metadata": {},
   "outputs": [],
   "source": [
    "#### check VIF"
   ]
  },
  {
   "cell_type": "code",
   "execution_count": 74,
   "id": "644febfc-a238-44f8-bdf7-179801d8c9b2",
   "metadata": {},
   "outputs": [],
   "source": [
    "# make sure there is no object datatype in dataframe\n",
    "for i in data_dummy.columns:\n",
    "    data_dummy[i] = data_dummy[i].astype(float)"
   ]
  },
  {
   "cell_type": "code",
   "execution_count": 76,
   "id": "41d4e7e6-5a64-4eb5-b761-254f3c5cf6f4",
   "metadata": {},
   "outputs": [],
   "source": [
    "# calculate VIF\n",
    "vif = pd.DataFrame()\n",
    "vif[\"variables\"] = data_dummy.columns\n",
    "vif[\"VIF\"] = [variance_inflation_factor(data_dummy.values, i) for i in range(len(data_dummy.columns))]"
   ]
  },
  {
   "cell_type": "code",
   "execution_count": 77,
   "id": "34d60a25-42f0-4b22-bf36-1adcc01f3980",
   "metadata": {},
   "outputs": [
    {
     "data": {
      "text/html": [
       "<div>\n",
       "<style scoped>\n",
       "    .dataframe tbody tr th:only-of-type {\n",
       "        vertical-align: middle;\n",
       "    }\n",
       "\n",
       "    .dataframe tbody tr th {\n",
       "        vertical-align: top;\n",
       "    }\n",
       "\n",
       "    .dataframe thead th {\n",
       "        text-align: right;\n",
       "    }\n",
       "</style>\n",
       "<table border=\"1\" class=\"dataframe\">\n",
       "  <thead>\n",
       "    <tr style=\"text-align: right;\">\n",
       "      <th></th>\n",
       "      <th>variables</th>\n",
       "      <th>VIF</th>\n",
       "    </tr>\n",
       "  </thead>\n",
       "  <tbody>\n",
       "    <tr>\n",
       "      <th>5</th>\n",
       "      <td>CLTV</td>\n",
       "      <td>216.404377</td>\n",
       "    </tr>\n",
       "    <tr>\n",
       "      <th>8</th>\n",
       "      <td>ORIGINAL_LTV</td>\n",
       "      <td>211.023732</td>\n",
       "    </tr>\n",
       "    <tr>\n",
       "      <th>0</th>\n",
       "      <td>CREDIT_SCORE</td>\n",
       "      <td>159.874049</td>\n",
       "    </tr>\n",
       "    <tr>\n",
       "      <th>9</th>\n",
       "      <td>ORIGINAL_INTEREST_RATE</td>\n",
       "      <td>137.966813</td>\n",
       "    </tr>\n",
       "    <tr>\n",
       "      <th>14</th>\n",
       "      <td>OCCUPANCY_STATUS_P</td>\n",
       "      <td>36.491932</td>\n",
       "    </tr>\n",
       "    <tr>\n",
       "      <th>11</th>\n",
       "      <td>NUMBER_OF_BORROWERS</td>\n",
       "      <td>12.424359</td>\n",
       "    </tr>\n",
       "    <tr>\n",
       "      <th>6</th>\n",
       "      <td>ORIGINAL_DTI</td>\n",
       "      <td>9.588819</td>\n",
       "    </tr>\n",
       "    <tr>\n",
       "      <th>7</th>\n",
       "      <td>ORIGINAL_UPB</td>\n",
       "      <td>6.891595</td>\n",
       "    </tr>\n",
       "    <tr>\n",
       "      <th>2</th>\n",
       "      <td>MSA</td>\n",
       "      <td>6.266209</td>\n",
       "    </tr>\n",
       "    <tr>\n",
       "      <th>17</th>\n",
       "      <td>CHANNEL_R</td>\n",
       "      <td>4.045977</td>\n",
       "    </tr>\n",
       "    <tr>\n",
       "      <th>19</th>\n",
       "      <td>LOAN_PURPOSE_P</td>\n",
       "      <td>2.908381</td>\n",
       "    </tr>\n",
       "    <tr>\n",
       "      <th>16</th>\n",
       "      <td>CHANNEL_C</td>\n",
       "      <td>2.801455</td>\n",
       "    </tr>\n",
       "    <tr>\n",
       "      <th>18</th>\n",
       "      <td>LOAN_PURPOSE_N</td>\n",
       "      <td>2.506711</td>\n",
       "    </tr>\n",
       "    <tr>\n",
       "      <th>15</th>\n",
       "      <td>OCCUPANCY_STATUS_S</td>\n",
       "      <td>2.440595</td>\n",
       "    </tr>\n",
       "    <tr>\n",
       "      <th>1</th>\n",
       "      <td>FIRST_TIME_HOMEBUYER_FLAG</td>\n",
       "      <td>1.587636</td>\n",
       "    </tr>\n",
       "    <tr>\n",
       "      <th>3</th>\n",
       "      <td>MI</td>\n",
       "      <td>1.444578</td>\n",
       "    </tr>\n",
       "    <tr>\n",
       "      <th>12</th>\n",
       "      <td>SUPER_CONFORMING_FLAG</td>\n",
       "      <td>1.379057</td>\n",
       "    </tr>\n",
       "    <tr>\n",
       "      <th>4</th>\n",
       "      <td>NUMBER_OF_UNITS</td>\n",
       "      <td>1.082907</td>\n",
       "    </tr>\n",
       "    <tr>\n",
       "      <th>13</th>\n",
       "      <td>delinLabel</td>\n",
       "      <td>1.019462</td>\n",
       "    </tr>\n",
       "    <tr>\n",
       "      <th>10</th>\n",
       "      <td>PPM_FLAG</td>\n",
       "      <td>1.013353</td>\n",
       "    </tr>\n",
       "  </tbody>\n",
       "</table>\n",
       "</div>"
      ],
      "text/plain": [
       "                    variables         VIF\n",
       "5                        CLTV  216.404377\n",
       "8                ORIGINAL_LTV  211.023732\n",
       "0                CREDIT_SCORE  159.874049\n",
       "9      ORIGINAL_INTEREST_RATE  137.966813\n",
       "14         OCCUPANCY_STATUS_P   36.491932\n",
       "11        NUMBER_OF_BORROWERS   12.424359\n",
       "6                ORIGINAL_DTI    9.588819\n",
       "7                ORIGINAL_UPB    6.891595\n",
       "2                         MSA    6.266209\n",
       "17                  CHANNEL_R    4.045977\n",
       "19             LOAN_PURPOSE_P    2.908381\n",
       "16                  CHANNEL_C    2.801455\n",
       "18             LOAN_PURPOSE_N    2.506711\n",
       "15         OCCUPANCY_STATUS_S    2.440595\n",
       "1   FIRST_TIME_HOMEBUYER_FLAG    1.587636\n",
       "3                          MI    1.444578\n",
       "12      SUPER_CONFORMING_FLAG    1.379057\n",
       "4             NUMBER_OF_UNITS    1.082907\n",
       "13                 delinLabel    1.019462\n",
       "10                   PPM_FLAG    1.013353"
      ]
     },
     "execution_count": 77,
     "metadata": {},
     "output_type": "execute_result"
    }
   ],
   "source": [
    "vif.sort_values('VIF',ascending=False)"
   ]
  },
  {
   "cell_type": "code",
   "execution_count": 70,
   "id": "049d3d4e-a039-4f69-ba8b-9f97db2c823c",
   "metadata": {},
   "outputs": [],
   "source": [
    "# calculate VIF\n",
    "for i in data_dummy.columns:\n",
    "    data_dummy[i] = data_dummy[i].astype(float)\n",
    "data_dummy_2=data_dummy[[  'FIRST_TIME_HOMEBUYER_FLAG', 'MSA', 'MI',\n",
    "       'NUMBER_OF_UNITS',  'ORIGINAL_DTI', 'ORIGINAL_UPB',\n",
    "         'PPM_FLAG',\n",
    "       'NUMBER_OF_BORROWERS', 'SUPER_CONFORMING_FLAG',  'OCCUPANCY_STATUS_P', 'OCCUPANCY_STATUS_S',\n",
    "       'CHANNEL_C', 'CHANNEL_R', 'LOAN_PURPOSE_N', 'LOAN_PURPOSE_P']]\n",
    "vif = pd.DataFrame()\n",
    "vif[\"variables\"] = data_dummy_2.columns\n",
    "vif[\"VIF\"] = [variance_inflation_factor(data_dummy_2.values, i) for i in range(len(data_dummy_2.columns))]"
   ]
  },
  {
   "cell_type": "code",
   "execution_count": 71,
   "id": "45ffb8f8-a954-4508-8a73-e20a87e449eb",
   "metadata": {},
   "outputs": [
    {
     "data": {
      "text/html": [
       "<div>\n",
       "<style scoped>\n",
       "    .dataframe tbody tr th:only-of-type {\n",
       "        vertical-align: middle;\n",
       "    }\n",
       "\n",
       "    .dataframe tbody tr th {\n",
       "        vertical-align: top;\n",
       "    }\n",
       "\n",
       "    .dataframe thead th {\n",
       "        text-align: right;\n",
       "    }\n",
       "</style>\n",
       "<table border=\"1\" class=\"dataframe\">\n",
       "  <thead>\n",
       "    <tr style=\"text-align: right;\">\n",
       "      <th></th>\n",
       "      <th>variables</th>\n",
       "      <th>VIF</th>\n",
       "    </tr>\n",
       "  </thead>\n",
       "  <tbody>\n",
       "    <tr>\n",
       "      <th>9</th>\n",
       "      <td>OCCUPANCY_STATUS_P</td>\n",
       "      <td>19.529774</td>\n",
       "    </tr>\n",
       "    <tr>\n",
       "      <th>7</th>\n",
       "      <td>NUMBER_OF_BORROWERS</td>\n",
       "      <td>10.498882</td>\n",
       "    </tr>\n",
       "    <tr>\n",
       "      <th>4</th>\n",
       "      <td>ORIGINAL_DTI</td>\n",
       "      <td>7.830374</td>\n",
       "    </tr>\n",
       "    <tr>\n",
       "      <th>5</th>\n",
       "      <td>ORIGINAL_UPB</td>\n",
       "      <td>6.642613</td>\n",
       "    </tr>\n",
       "    <tr>\n",
       "      <th>1</th>\n",
       "      <td>MSA</td>\n",
       "      <td>5.785505</td>\n",
       "    </tr>\n",
       "    <tr>\n",
       "      <th>12</th>\n",
       "      <td>CHANNEL_R</td>\n",
       "      <td>3.791196</td>\n",
       "    </tr>\n",
       "    <tr>\n",
       "      <th>11</th>\n",
       "      <td>CHANNEL_C</td>\n",
       "      <td>2.674449</td>\n",
       "    </tr>\n",
       "    <tr>\n",
       "      <th>14</th>\n",
       "      <td>LOAN_PURPOSE_P</td>\n",
       "      <td>2.632551</td>\n",
       "    </tr>\n",
       "    <tr>\n",
       "      <th>13</th>\n",
       "      <td>LOAN_PURPOSE_N</td>\n",
       "      <td>2.371093</td>\n",
       "    </tr>\n",
       "    <tr>\n",
       "      <th>10</th>\n",
       "      <td>OCCUPANCY_STATUS_S</td>\n",
       "      <td>1.745255</td>\n",
       "    </tr>\n",
       "    <tr>\n",
       "      <th>0</th>\n",
       "      <td>FIRST_TIME_HOMEBUYER_FLAG</td>\n",
       "      <td>1.580868</td>\n",
       "    </tr>\n",
       "    <tr>\n",
       "      <th>8</th>\n",
       "      <td>SUPER_CONFORMING_FLAG</td>\n",
       "      <td>1.360166</td>\n",
       "    </tr>\n",
       "    <tr>\n",
       "      <th>2</th>\n",
       "      <td>MI</td>\n",
       "      <td>1.238321</td>\n",
       "    </tr>\n",
       "    <tr>\n",
       "      <th>3</th>\n",
       "      <td>NUMBER_OF_UNITS</td>\n",
       "      <td>1.046290</td>\n",
       "    </tr>\n",
       "    <tr>\n",
       "      <th>6</th>\n",
       "      <td>PPM_FLAG</td>\n",
       "      <td>1.004283</td>\n",
       "    </tr>\n",
       "  </tbody>\n",
       "</table>\n",
       "</div>"
      ],
      "text/plain": [
       "                    variables        VIF\n",
       "9          OCCUPANCY_STATUS_P  19.529774\n",
       "7         NUMBER_OF_BORROWERS  10.498882\n",
       "4                ORIGINAL_DTI   7.830374\n",
       "5                ORIGINAL_UPB   6.642613\n",
       "1                         MSA   5.785505\n",
       "12                  CHANNEL_R   3.791196\n",
       "11                  CHANNEL_C   2.674449\n",
       "14             LOAN_PURPOSE_P   2.632551\n",
       "13             LOAN_PURPOSE_N   2.371093\n",
       "10         OCCUPANCY_STATUS_S   1.745255\n",
       "0   FIRST_TIME_HOMEBUYER_FLAG   1.580868\n",
       "8       SUPER_CONFORMING_FLAG   1.360166\n",
       "2                          MI   1.238321\n",
       "3             NUMBER_OF_UNITS   1.046290\n",
       "6                    PPM_FLAG   1.004283"
      ]
     },
     "execution_count": 71,
     "metadata": {},
     "output_type": "execute_result"
    }
   ],
   "source": [
    "vif.sort_values('VIF',ascending=False)"
   ]
  },
  {
   "cell_type": "code",
   "execution_count": 74,
   "id": "8259134a-bed0-4295-8e40-f50a07860305",
   "metadata": {},
   "outputs": [],
   "source": [
    "data_dummy_2=data_dummy[[  'FIRST_TIME_HOMEBUYER_FLAG', 'MSA', 'MI',\n",
    "       'NUMBER_OF_UNITS',  'ORIGINAL_DTI', 'ORIGINAL_UPB',\n",
    "         'PPM_FLAG',\n",
    "       'NUMBER_OF_BORROWERS', 'SUPER_CONFORMING_FLAG',  'OCCUPANCY_STATUS_P', 'OCCUPANCY_STATUS_S',\n",
    "       'CHANNEL_C', 'CHANNEL_R', 'LOAN_PURPOSE_N', 'LOAN_PURPOSE_P','delinLabel']]"
   ]
  },
  {
   "cell_type": "code",
   "execution_count": 75,
   "id": "c7914487-7f32-411c-907b-1532cd9e9487",
   "metadata": {},
   "outputs": [],
   "source": [
    "#try smote\n",
    "y=data_dummy_2.copy()\n",
    "y=y.delinLabel\n",
    "X=data_dummy_2.copy()\n",
    "X.drop('delinLabel',axis=1,inplace=True)"
   ]
  },
  {
   "cell_type": "code",
   "execution_count": 76,
   "id": "ed6bb2b7-f4c4-4707-8a9b-0b8513fcd1ad",
   "metadata": {},
   "outputs": [],
   "source": [
    "over=SMOTE(sampling_strategy=0.1)\n",
    "under=RandomUnderSampler(sampling_strategy=0.5)\n",
    "model=LogisticRegression()\n",
    "steps=[('o',over),('u', under),('m',model)]\n",
    "pipeline=Pipeline(steps=steps)"
   ]
  },
  {
   "cell_type": "code",
   "execution_count": 77,
   "id": "430bcf84-01e3-4568-8df7-1884b672eba7",
   "metadata": {},
   "outputs": [
    {
     "data": {
      "text/plain": [
       "array([0.99320428, 0.99320428, 0.99320428, 0.99340886, 0.99340886,\n",
       "       0.99340886, 0.99340886, 0.99340886, 0.99340886, 0.99320288,\n",
       "       0.99320428, 0.99320428, 0.99320428, 0.99340886, 0.99340886,\n",
       "       0.99340886, 0.99340886, 0.99340886, 0.99340886, 0.99320288,\n",
       "       0.99320428, 0.99320428, 0.99320428, 0.99340886, 0.99340886,\n",
       "       0.99340886, 0.99340886, 0.99340886, 0.99340886, 0.99320288])"
      ]
     },
     "execution_count": 77,
     "metadata": {},
     "output_type": "execute_result"
    }
   ],
   "source": [
    "# evaluate pipeline by 10 fold cross validation\n",
    "cv = RepeatedStratifiedKFold(n_splits=10, n_repeats=3,random_state=1)\n",
    "scores = cross_val_score(model, X, y, scoring='accuracy', cv=cv, n_jobs=-1)\n",
    "scores"
   ]
  },
  {
   "cell_type": "code",
   "execution_count": 78,
   "id": "a67716dd-8fc2-4857-b7ea-82f8cebcf1cc",
   "metadata": {},
   "outputs": [
    {
     "data": {
      "text/plain": [
       "0.9933268874799162"
      ]
     },
     "execution_count": 78,
     "metadata": {},
     "output_type": "execute_result"
    }
   ],
   "source": [
    "scores.mean()"
   ]
  },
  {
   "cell_type": "code",
   "execution_count": 82,
   "id": "a26f79ce-174d-47d4-a80d-63d2af7a77cd",
   "metadata": {},
   "outputs": [
    {
     "data": {
      "text/plain": [
       "array([0.88612026, 0.8943575 , 0.89147446, 0.99340886, 0.90030896,\n",
       "       0.99340886, 0.89207003, 0.99340886, 0.88135942, 0.99320288,\n",
       "       0.88591433, 0.91659802, 0.89250412, 0.99340886, 0.91225541,\n",
       "       0.99340886, 0.99340886, 0.89557158, 0.99340886, 0.99320288,\n",
       "       0.89271005, 0.87808896, 0.99320428, 0.90937178, 0.99340886,\n",
       "       0.88362513, 0.99340886, 0.99340886, 0.99340886, 0.88836251])"
      ]
     },
     "execution_count": 82,
     "metadata": {},
     "output_type": "execute_result"
    }
   ],
   "source": [
    "cv = RepeatedStratifiedKFold(n_splits=10, n_repeats=3, random_state=1)\n",
    "scores = cross_val_score(pipeline, X, y, scoring='accuracy', cv=cv, n_jobs=-1)\n",
    "scores"
   ]
  },
  {
   "cell_type": "code",
   "execution_count": 83,
   "id": "dcbbdf65-ad3b-42c2-8044-33eb2273d315",
   "metadata": {},
   "outputs": [
    {
     "data": {
      "text/plain": [
       "0.940260000192287"
      ]
     },
     "execution_count": 83,
     "metadata": {},
     "output_type": "execute_result"
    }
   ],
   "source": [
    "scores.mean()"
   ]
  },
  {
   "cell_type": "code",
   "execution_count": null,
   "id": "bb178f74-2f0e-4c9b-870d-12a2a6087590",
   "metadata": {},
   "outputs": [],
   "source": []
  },
  {
   "cell_type": "code",
   "execution_count": null,
   "id": "81b36c1b-a176-4949-acd9-dc3adb5d9fab",
   "metadata": {},
   "outputs": [],
   "source": []
  },
  {
   "cell_type": "code",
   "execution_count": null,
   "id": "e597241b-9205-4b0d-94d8-27ab1e754e3e",
   "metadata": {},
   "outputs": [],
   "source": []
  },
  {
   "cell_type": "code",
   "execution_count": null,
   "id": "579e3da7-c559-49c6-b1f4-911831806913",
   "metadata": {},
   "outputs": [],
   "source": []
  },
  {
   "cell_type": "code",
   "execution_count": 64,
   "id": "68d507fd-31c6-4ec5-82b5-acf9447afe28",
   "metadata": {},
   "outputs": [],
   "source": [
    "y=data_dummy_2.copy()['delinLabel']\n",
    "X=data_dummy_2.copy()\n",
    "X.drop('delinLabel',axis=1,inplace=True)"
   ]
  },
  {
   "cell_type": "code",
   "execution_count": 65,
   "id": "ea78bb95-ed4d-4a6e-babc-f3abe4f9698f",
   "metadata": {},
   "outputs": [],
   "source": [
    "from sklearn.model_selection import train_test_split\n",
    "X_train, X_test, y_train, y_test = train_test_split(X, y, test_size=0.60)"
   ]
  },
  {
   "cell_type": "code",
   "execution_count": 66,
   "id": "690d640c-d142-4e0d-a047-76470ae43f50",
   "metadata": {},
   "outputs": [],
   "source": [
    "from sklearn.linear_model import LogisticRegression\n",
    "logmodel = LogisticRegression()\n",
    "logmodel.fit(X_train,y_train)\n",
    "predictions = logmodel.predict(X_test)"
   ]
  },
  {
   "cell_type": "code",
   "execution_count": 67,
   "id": "cad7c4f9-637e-4347-b675-3df368b090d8",
   "metadata": {},
   "outputs": [
    {
     "name": "stdout",
     "output_type": "stream",
     "text": [
      "              precision    recall  f1-score   support\n",
      "\n",
      "         0.0       0.99      1.00      1.00     28902\n",
      "         1.0       0.00      0.00      0.00       230\n",
      "\n",
      "    accuracy                           0.99     29132\n",
      "   macro avg       0.50      0.50      0.50     29132\n",
      "weighted avg       0.98      0.99      0.99     29132\n",
      "\n"
     ]
    },
    {
     "name": "stderr",
     "output_type": "stream",
     "text": [
      "C:\\Installs\\anaconda\\lib\\site-packages\\sklearn\\metrics\\_classification.py:1344: UndefinedMetricWarning: Precision and F-score are ill-defined and being set to 0.0 in labels with no predicted samples. Use `zero_division` parameter to control this behavior.\n",
      "  _warn_prf(average, modifier, msg_start, len(result))\n",
      "C:\\Installs\\anaconda\\lib\\site-packages\\sklearn\\metrics\\_classification.py:1344: UndefinedMetricWarning: Precision and F-score are ill-defined and being set to 0.0 in labels with no predicted samples. Use `zero_division` parameter to control this behavior.\n",
      "  _warn_prf(average, modifier, msg_start, len(result))\n",
      "C:\\Installs\\anaconda\\lib\\site-packages\\sklearn\\metrics\\_classification.py:1344: UndefinedMetricWarning: Precision and F-score are ill-defined and being set to 0.0 in labels with no predicted samples. Use `zero_division` parameter to control this behavior.\n",
      "  _warn_prf(average, modifier, msg_start, len(result))\n"
     ]
    }
   ],
   "source": [
    "from sklearn.metrics import classification_report\n",
    "print(classification_report(y_test,predictions))"
   ]
  },
  {
   "cell_type": "code",
   "execution_count": 68,
   "id": "52436d8f-4d13-4662-9284-e80d36dbb7bd",
   "metadata": {},
   "outputs": [
    {
     "data": {
      "text/plain": [
       "array([[28902,     0],\n",
       "       [  230,     0]], dtype=int64)"
      ]
     },
     "execution_count": 68,
     "metadata": {},
     "output_type": "execute_result"
    }
   ],
   "source": [
    "from sklearn.metrics import confusion_matrix\n",
    "confusion_matrix(y_test,predictions)"
   ]
  },
  {
   "cell_type": "code",
   "execution_count": null,
   "id": "a1d1bcdc-bf10-41ce-a506-ad805640b3ea",
   "metadata": {},
   "outputs": [],
   "source": []
  },
  {
   "cell_type": "code",
   "execution_count": null,
   "id": "8fef5068-fba4-40a9-90c0-ae5afdb2c207",
   "metadata": {},
   "outputs": [],
   "source": []
  },
  {
   "cell_type": "code",
   "execution_count": null,
   "id": "525b0fda-f1e5-4bbe-a1f3-6db6cdb19a21",
   "metadata": {},
   "outputs": [],
   "source": []
  },
  {
   "cell_type": "code",
   "execution_count": null,
   "id": "3f9773d3-0397-4a09-9107-65bf4c065d0d",
   "metadata": {},
   "outputs": [],
   "source": []
  },
  {
   "cell_type": "code",
   "execution_count": null,
   "id": "4e011837-1a8d-42cf-b5cb-c64a5397cbaf",
   "metadata": {},
   "outputs": [],
   "source": []
  },
  {
   "cell_type": "code",
   "execution_count": 78,
   "id": "8b5d04a3-5e5b-4161-b5a9-6a0fff880ee9",
   "metadata": {},
   "outputs": [],
   "source": [
    "#try smote\n",
    "y=data_dummy.copy()\n",
    "y=y.delinLabel\n",
    "X=data_dummy.copy()\n",
    "X.drop('delinLabel',axis=1,inplace=True)"
   ]
  },
  {
   "cell_type": "code",
   "execution_count": 79,
   "id": "a3fb3513-1fab-429f-abe6-c5c3fbd05389",
   "metadata": {},
   "outputs": [],
   "source": [
    "# define pipeline\n",
    "over=SMOTE(sampling_strategy=0.1)\n",
    "under=RandomUnderSampler(sampling_strategy=0.5)\n",
    "model=LogisticRegression()\n",
    "steps=[('o',over),('u', under),('m',model)]\n",
    "pipeline=Pipeline(steps=steps)"
   ]
  },
  {
   "cell_type": "code",
   "execution_count": 80,
   "id": "e079c482-fb60-4f64-86d4-294b67ce857f",
   "metadata": {},
   "outputs": [
    {
     "data": {
      "text/plain": [
       "array([0.99320428, 0.99320428, 0.99320428, 0.99340886, 0.99340886,\n",
       "       0.99340886, 0.99340886, 0.99340886, 0.99340886, 0.99320288,\n",
       "       0.99320428, 0.99320428, 0.99320428, 0.99340886, 0.99340886,\n",
       "       0.99340886, 0.99340886, 0.99340886, 0.99340886, 0.99320288,\n",
       "       0.99320428, 0.99320428, 0.99320428, 0.99340886, 0.99340886,\n",
       "       0.99340886, 0.99340886, 0.99340886, 0.99340886, 0.99320288])"
      ]
     },
     "execution_count": 80,
     "metadata": {},
     "output_type": "execute_result"
    }
   ],
   "source": [
    "# evaluate pipeline by 10 fold cross validation\n",
    "cv = RepeatedStratifiedKFold(n_splits=10, n_repeats=3,random_state=1)\n",
    "scores = cross_val_score(model, X, y, scoring='accuracy', cv=cv, n_jobs=-1)\n",
    "scores"
   ]
  },
  {
   "cell_type": "code",
   "execution_count": 81,
   "id": "a3b02c03-9fb9-41d4-ba9c-2a2d8136e337",
   "metadata": {},
   "outputs": [
    {
     "data": {
      "text/plain": [
       "0.9933268874799162"
      ]
     },
     "execution_count": 81,
     "metadata": {},
     "output_type": "execute_result"
    }
   ],
   "source": [
    "scores.mean()"
   ]
  },
  {
   "cell_type": "code",
   "execution_count": 82,
   "id": "dbb88e68-39fc-44ae-973e-4eaf486b4383",
   "metadata": {},
   "outputs": [
    {
     "data": {
      "text/plain": [
       "array([0.86882208, 0.85193575, 0.8502883 , 0.86467559, 0.85932029,\n",
       "       0.8554068 , 0.84449022, 0.85128733, 0.84902163, 0.85005149,\n",
       "       0.84987644, 0.8696458 , 0.85934926, 0.85932029, 0.85375901,\n",
       "       0.85334706, 0.86323378, 0.85128733, 0.86220391, 0.84654995,\n",
       "       0.86140857, 0.85440692, 0.84019769, 0.85396498, 0.85623069,\n",
       "       0.87476828, 0.85396498, 0.84984552, 0.84881565, 0.85355304])"
      ]
     },
     "execution_count": 82,
     "metadata": {},
     "output_type": "execute_result"
    }
   ],
   "source": [
    "cv = RepeatedStratifiedKFold(n_splits=10, n_repeats=3, random_state=1)\n",
    "scores = cross_val_score(pipeline, X, y, scoring='accuracy', cv=cv, n_jobs=-1)\n",
    "scores"
   ]
  },
  {
   "cell_type": "code",
   "execution_count": 83,
   "id": "f0a46a93-601c-4fd3-81be-39a27a5476bf",
   "metadata": {},
   "outputs": [
    {
     "data": {
      "text/plain": [
       "0.8553676214843305"
      ]
     },
     "execution_count": 83,
     "metadata": {},
     "output_type": "execute_result"
    }
   ],
   "source": [
    "scores.mean()"
   ]
  },
  {
   "cell_type": "code",
   "execution_count": null,
   "id": "3f1f7a2c-4969-4013-9d9d-29765b25bae3",
   "metadata": {},
   "outputs": [],
   "source": []
  },
  {
   "cell_type": "code",
   "execution_count": null,
   "id": "133b883a-d820-4a79-bd5c-e1e0d2b736ad",
   "metadata": {},
   "outputs": [],
   "source": []
  }
 ],
 "metadata": {
  "kernelspec": {
   "display_name": "Python 3",
   "language": "python",
   "name": "python3"
  },
  "language_info": {
   "codemirror_mode": {
    "name": "ipython",
    "version": 3
   },
   "file_extension": ".py",
   "mimetype": "text/x-python",
   "name": "python",
   "nbconvert_exporter": "python",
   "pygments_lexer": "ipython3",
   "version": "3.8.8"
  }
 },
 "nbformat": 4,
 "nbformat_minor": 5
}
